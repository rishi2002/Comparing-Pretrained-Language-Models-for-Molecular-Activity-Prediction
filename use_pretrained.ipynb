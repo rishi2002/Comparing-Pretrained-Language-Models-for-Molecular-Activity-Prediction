{
 "cells": [
  {
   "cell_type": "code",
   "execution_count": 1,
   "id": "b945da7d",
   "metadata": {},
   "outputs": [],
   "source": [
    "import pandas as pd\n",
    "from tqdm import tqdm\n",
    "import torch\n",
    "import torch.nn as nn\n",
    "import torch.nn.functional as F\n",
    "from torch import optim\n",
    "from torch.utils.data import Dataset, DataLoader\n",
    "from torchvision import transforms\n",
    "from transformers import RobertaConfig, RobertaModel, AutoTokenizer, AutoModel, RobertaTokenizerFast\n",
    "from sklearn.model_selection import train_test_split\n",
    "import matplotlib.pyplot as plt"
   ]
  },
  {
   "cell_type": "markdown",
   "id": "2d844c18",
   "metadata": {},
   "source": [
    "## Choose Model"
   ]
  },
  {
   "cell_type": "code",
   "execution_count": 2,
   "id": "f1e23108",
   "metadata": {},
   "outputs": [],
   "source": [
    "config = 'ChemGPT'\n",
    "model_type = 'GPT' #GPT or roberta\n",
    "mode = 'val' #val or test"
   ]
  },
  {
   "cell_type": "code",
   "execution_count": 3,
   "id": "2988510c",
   "metadata": {
    "scrolled": true
   },
   "outputs": [],
   "source": [
    "if config == 'random_init':\n",
    "    tokenizer = AutoTokenizer.from_pretrained(\"DeepChem/ChemBERTa-10M-MTR\")\n",
    "    configuration = RobertaConfig()\n",
    "    base_model = RobertaModel(configuration)\n",
    "    \n",
    "elif config == 'roberta':\n",
    "    tokenizer = AutoTokenizer.from_pretrained(\"DeepChem/ChemBERTa-10M-MTR\")\n",
    "    configuration = RobertaConfig()\n",
    "    base_model = RobertaModel(configuration)\n",
    "    configuration = base_model.config\n",
    "\n",
    "elif config == 'ChemBERTa_pubchem':\n",
    "    tokenizer = AutoTokenizer.from_pretrained(\"seyonec/ChemBERTA_PubChem1M_shard00_155k\")\n",
    "    base_model = AutoModel.from_pretrained(\"seyonec/ChemBERTA_PubChem1M_shard00_155k\")\n",
    "    \n",
    "elif config == 'ChemBERTa_10M':\n",
    "    tokenizer = AutoTokenizer.from_pretrained(\"DeepChem/ChemBERTa-10M-MTR\")\n",
    "    base_model = AutoModel.from_pretrained(\"DeepChem/ChemBERTa-10M-MTR\")\n",
    "\n",
    "elif config == 'ChemGPT':\n",
    "    tokenizer = AutoTokenizer.from_pretrained(\"ncfrey/ChemGPT-1.2B\")\n",
    "    base_model = AutoModel.from_pretrained(\"ncfrey/ChemGPT-1.2B\")"
   ]
  },
  {
   "cell_type": "code",
   "execution_count": 4,
   "id": "b16e41f5",
   "metadata": {},
   "outputs": [
    {
     "name": "stdout",
     "output_type": "stream",
     "text": [
      "Total number of parameters in selected model (without head): 1214050304\n"
     ]
    }
   ],
   "source": [
    "num_params = 0\n",
    "for params in base_model.parameters():\n",
    "    num_params+=params.numel()\n",
    "print('Total number of parameters in selected model (without head):',num_params)"
   ]
  },
  {
   "cell_type": "code",
   "execution_count": 5,
   "id": "5a610f45",
   "metadata": {},
   "outputs": [],
   "source": [
    "class FullModel(nn.Module):\n",
    "    def __init__(self, base_model, model_type, num_outputs):\n",
    "        super(FullModel, self).__init__()\n",
    "        self.model_type = model_type\n",
    "        self.base = base_model\n",
    "        \n",
    "        self.lin1 = nn.Linear(base_model.config.hidden_size, 512)\n",
    "        self.relu = nn.ReLU()\n",
    "        self.lin2 = nn.Linear(512, num_outputs)\n",
    "\n",
    "    def forward(self, input_ids, attention_mask):\n",
    "        # Pass the input through base model\n",
    "        outputs = self.base(input_ids=input_ids, attention_mask=attention_mask)\n",
    "\n",
    "        # Apply the linear layer for classification\n",
    "        if model_type == 'roberta':\n",
    "            x = self.relu(self.lin1(outputs['pooler_output']))\n",
    "        elif model_type =='GPT':\n",
    "            x = self.relu(self.lin1(outputs['last_hidden_state'][:,-1,:]))\n",
    "        x = self.lin2(x)\n",
    "\n",
    "        return x"
   ]
  },
  {
   "cell_type": "code",
   "execution_count": 6,
   "id": "9bcc3c2d",
   "metadata": {
    "scrolled": true
   },
   "outputs": [
    {
     "data": {
      "text/plain": [
       "FullModel(\n",
       "  (base): GPTNeoModel(\n",
       "    (wte): Embedding(684, 2048)\n",
       "    (wpe): Embedding(2048, 2048)\n",
       "    (drop): Dropout(p=0.0, inplace=False)\n",
       "    (h): ModuleList(\n",
       "      (0-23): 24 x GPTNeoBlock(\n",
       "        (ln_1): LayerNorm((2048,), eps=1e-05, elementwise_affine=True)\n",
       "        (attn): GPTNeoAttention(\n",
       "          (attention): GPTNeoSelfAttention(\n",
       "            (attn_dropout): Dropout(p=0.0, inplace=False)\n",
       "            (resid_dropout): Dropout(p=0.0, inplace=False)\n",
       "            (k_proj): Linear(in_features=2048, out_features=2048, bias=False)\n",
       "            (v_proj): Linear(in_features=2048, out_features=2048, bias=False)\n",
       "            (q_proj): Linear(in_features=2048, out_features=2048, bias=False)\n",
       "            (out_proj): Linear(in_features=2048, out_features=2048, bias=True)\n",
       "          )\n",
       "        )\n",
       "        (ln_2): LayerNorm((2048,), eps=1e-05, elementwise_affine=True)\n",
       "        (mlp): GPTNeoMLP(\n",
       "          (c_fc): Linear(in_features=2048, out_features=8192, bias=True)\n",
       "          (c_proj): Linear(in_features=8192, out_features=2048, bias=True)\n",
       "          (act): NewGELUActivation()\n",
       "          (dropout): Dropout(p=0.0, inplace=False)\n",
       "        )\n",
       "      )\n",
       "    )\n",
       "    (ln_f): LayerNorm((2048,), eps=1e-05, elementwise_affine=True)\n",
       "  )\n",
       "  (lin1): Linear(in_features=2048, out_features=512, bias=True)\n",
       "  (relu): ReLU()\n",
       "  (lin2): Linear(in_features=512, out_features=4, bias=True)\n",
       ")"
      ]
     },
     "execution_count": 6,
     "metadata": {},
     "output_type": "execute_result"
    }
   ],
   "source": [
    "for param in base_model.parameters():\n",
    "    param.requires_grad = False\n",
    "    \n",
    "model = FullModel(base_model, model_type, num_outputs = 4)\n",
    "\n",
    "torch.cuda.set_device(2)\n",
    "\n",
    "device = torch.device(\"cuda\" if torch.cuda.is_available() else \"cpu\")\n",
    "model.to(device)"
   ]
  },
  {
   "cell_type": "markdown",
   "id": "d0d0ec97",
   "metadata": {},
   "source": [
    "## Loading Data and Preprocessing"
   ]
  },
  {
   "cell_type": "code",
   "execution_count": 7,
   "id": "df30cc21",
   "metadata": {
    "scrolled": true
   },
   "outputs": [],
   "source": [
    "df = pd.read_csv('parkinsons.csv')\n",
    "selected_columns = ['Molecular Weight', '#RO5 Violations','Smiles', 'AlogP', 'pChEMBL Value']\n",
    "columns_to_check = ['Molecular Weight', '#RO5 Violations', 'AlogP', 'pChEMBL Value']\n",
    "for col in columns_to_check:\n",
    "    df = df[pd.to_numeric(df[col], errors='coerce').notnull()]\n",
    "df_selected = df[selected_columns].dropna()\n",
    "# df_selected"
   ]
  },
  {
   "cell_type": "code",
   "execution_count": 8,
   "id": "93ad80e5",
   "metadata": {},
   "outputs": [],
   "source": [
    "test_size = 0.2\n",
    "val_size = 0.5\n",
    "\n",
    "train_df, test_df = train_test_split(df_selected, test_size=test_size, random_state=42)\n",
    "test_df, val_df = train_test_split(test_df, test_size=val_size, random_state=42)"
   ]
  },
  {
   "cell_type": "code",
   "execution_count": 9,
   "id": "9fa384b3",
   "metadata": {},
   "outputs": [],
   "source": [
    "class smiles_dataset(Dataset):\n",
    " \n",
    "    def __init__(self,df):\n",
    "        if tokenizer.pad_token is None:\n",
    "            print(\"no padding defined in tokenizer, using [PAD] token by default\")\n",
    "            tokenizer.add_special_tokens({'pad_token': '[PAD]'})\n",
    "        self.encodings = tokenizer(df[\"Smiles\"].tolist(), return_tensors=\"pt\",truncation=True, padding=True)\n",
    "        data = df[['Molecular Weight', '#RO5 Violations', 'AlogP','pChEMBL Value']].values.astype(float)\n",
    "        \n",
    "        self.y = torch.tensor(data, dtype=torch.float32)\n",
    "        mean = self.y.mean(dim=0)\n",
    "        std = self.y.std(dim=0)\n",
    "        self.y = (self.y - mean) / std\n",
    "    \n",
    "    def __len__(self):\n",
    "        return len(self.y)\n",
    "   \n",
    "    def __getitem__(self,idx):\n",
    "        input_ids = self.encodings['input_ids'][idx]\n",
    "        attention_mask = self.encodings['attention_mask'][idx]\n",
    "        return (input_ids, attention_mask),self.y[idx]"
   ]
  },
  {
   "cell_type": "code",
   "execution_count": 10,
   "id": "01cdaa1b",
   "metadata": {
    "scrolled": true
   },
   "outputs": [
    {
     "name": "stderr",
     "output_type": "stream",
     "text": [
      "Using pad_token, but it is not set yet.\n",
      "Asking to truncate to max_length but no maximum length is provided and the model has no predefined maximum length. Default to no truncation.\n"
     ]
    },
    {
     "name": "stdout",
     "output_type": "stream",
     "text": [
      "no padding defined in tokenizer, using [PAD] token by default\n"
     ]
    }
   ],
   "source": [
    "train_data = smiles_dataset(train_df)\n",
    "test_data = smiles_dataset(test_df)\n",
    "val_data = smiles_dataset(val_df)\n",
    "\n",
    "batch_size = 32\n",
    "\n",
    "train_dataloader = DataLoader(train_data, batch_size = batch_size, shuffle=True)\n",
    "if mode=='val':\n",
    "    eval_dataloader = DataLoader(val_data, batch_size = batch_size)\n",
    "elif mode=='test':\n",
    "    eval_dataloader = DataLoader(test_data, batch_size = batch_size)"
   ]
  },
  {
   "cell_type": "markdown",
   "id": "960cd299",
   "metadata": {},
   "source": [
    "## Train"
   ]
  },
  {
   "cell_type": "code",
   "execution_count": 11,
   "id": "481c0bf3",
   "metadata": {},
   "outputs": [],
   "source": [
    "learning_rate = 1e-8\n",
    "num_epochs = 25\n",
    "weight_decay=0\n",
    "optimizer = optim.AdamW(model.parameters(), lr=learning_rate, weight_decay=weight_decay)\n",
    "criterion = nn.MSELoss()"
   ]
  },
  {
   "cell_type": "code",
   "execution_count": 12,
   "id": "60078d44",
   "metadata": {
    "scrolled": true
   },
   "outputs": [
    {
     "name": "stderr",
     "output_type": "stream",
     "text": [
      "100%|█████████████████████████████████████████| 295/295 [01:33<00:00,  3.17it/s]\n"
     ]
    },
    {
     "name": "stdout",
     "output_type": "stream",
     "text": [
      "Epoch 1/25, Train Loss: 1.0464139954518463\n",
      "Epoch 1/25, Eval Loss: 1.040549692269918\n"
     ]
    },
    {
     "name": "stderr",
     "output_type": "stream",
     "text": [
      "100%|█████████████████████████████████████████| 295/295 [02:31<00:00,  1.95it/s]\n"
     ]
    },
    {
     "name": "stdout",
     "output_type": "stream",
     "text": [
      "Epoch 2/25, Train Loss: 1.038395233073477\n",
      "Epoch 2/25, Eval Loss: 1.036981995041306\n"
     ]
    },
    {
     "name": "stderr",
     "output_type": "stream",
     "text": [
      "100%|█████████████████████████████████████████| 295/295 [02:51<00:00,  1.72it/s]\n"
     ]
    },
    {
     "name": "stdout",
     "output_type": "stream",
     "text": [
      "Epoch 3/25, Train Loss: 1.0351020584672184\n",
      "Epoch 3/25, Eval Loss: 1.0338165969462008\n"
     ]
    },
    {
     "name": "stderr",
     "output_type": "stream",
     "text": [
      "100%|█████████████████████████████████████████| 295/295 [02:51<00:00,  1.72it/s]\n"
     ]
    },
    {
     "name": "stdout",
     "output_type": "stream",
     "text": [
      "Epoch 4/25, Train Loss: 1.0247690217979883\n",
      "Epoch 4/25, Eval Loss: 1.0310247314942849\n"
     ]
    },
    {
     "name": "stderr",
     "output_type": "stream",
     "text": [
      "100%|█████████████████████████████████████████| 295/295 [02:51<00:00,  1.72it/s]\n"
     ]
    },
    {
     "name": "stdout",
     "output_type": "stream",
     "text": [
      "Epoch 5/25, Train Loss: 1.019500338223021\n",
      "Epoch 5/25, Eval Loss: 1.0285263947538428\n"
     ]
    },
    {
     "name": "stderr",
     "output_type": "stream",
     "text": [
      "100%|█████████████████████████████████████████| 295/295 [02:50<00:00,  1.73it/s]\n"
     ]
    },
    {
     "name": "stdout",
     "output_type": "stream",
     "text": [
      "Epoch 6/25, Train Loss: 1.017574679851532\n",
      "Epoch 6/25, Eval Loss: 1.02638785581331\n"
     ]
    },
    {
     "name": "stderr",
     "output_type": "stream",
     "text": [
      "100%|█████████████████████████████████████████| 295/295 [02:50<00:00,  1.73it/s]\n"
     ]
    },
    {
     "name": "stdout",
     "output_type": "stream",
     "text": [
      "Epoch 7/25, Train Loss: 1.0107892028356003\n",
      "Epoch 7/25, Eval Loss: 1.0245690506857794\n"
     ]
    },
    {
     "name": "stderr",
     "output_type": "stream",
     "text": [
      "100%|█████████████████████████████████████████| 295/295 [02:50<00:00,  1.73it/s]\n"
     ]
    },
    {
     "name": "stdout",
     "output_type": "stream",
     "text": [
      "Epoch 8/25, Train Loss: 1.0074041305962256\n",
      "Epoch 8/25, Eval Loss: 1.0230206041722685\n"
     ]
    },
    {
     "name": "stderr",
     "output_type": "stream",
     "text": [
      "100%|█████████████████████████████████████████| 295/295 [02:50<00:00,  1.73it/s]\n"
     ]
    },
    {
     "name": "stdout",
     "output_type": "stream",
     "text": [
      "Epoch 9/25, Train Loss: 1.0028575608285808\n",
      "Epoch 9/25, Eval Loss: 1.0216865281800966\n"
     ]
    },
    {
     "name": "stderr",
     "output_type": "stream",
     "text": [
      "100%|█████████████████████████████████████████| 295/295 [02:50<00:00,  1.73it/s]\n"
     ]
    },
    {
     "name": "stdout",
     "output_type": "stream",
     "text": [
      "Epoch 10/25, Train Loss: 1.0005422877053083\n",
      "Epoch 10/25, Eval Loss: 1.0205647462123149\n"
     ]
    },
    {
     "name": "stderr",
     "output_type": "stream",
     "text": [
      "100%|█████████████████████████████████████████| 295/295 [02:50<00:00,  1.73it/s]\n"
     ]
    },
    {
     "name": "stdout",
     "output_type": "stream",
     "text": [
      "Epoch 11/25, Train Loss: 0.9979679711794449\n",
      "Epoch 11/25, Eval Loss: 1.0196451721964657\n"
     ]
    },
    {
     "name": "stderr",
     "output_type": "stream",
     "text": [
      "100%|█████████████████████████████████████████| 295/295 [02:50<00:00,  1.73it/s]\n"
     ]
    },
    {
     "name": "stdout",
     "output_type": "stream",
     "text": [
      "Epoch 12/25, Train Loss: 0.9951534713728953\n",
      "Epoch 12/25, Eval Loss: 1.018894910812378\n"
     ]
    },
    {
     "name": "stderr",
     "output_type": "stream",
     "text": [
      "100%|█████████████████████████████████████████| 295/295 [02:50<00:00,  1.73it/s]\n"
     ]
    },
    {
     "name": "stdout",
     "output_type": "stream",
     "text": [
      "Epoch 13/25, Train Loss: 0.9943734548859677\n",
      "Epoch 13/25, Eval Loss: 1.0183188576956053\n"
     ]
    },
    {
     "name": "stderr",
     "output_type": "stream",
     "text": [
      "100%|█████████████████████████████████████████| 295/295 [02:50<00:00,  1.73it/s]\n"
     ]
    },
    {
     "name": "stdout",
     "output_type": "stream",
     "text": [
      "Epoch 14/25, Train Loss: 0.9927012958769071\n",
      "Epoch 14/25, Eval Loss: 1.0178990315746617\n"
     ]
    },
    {
     "name": "stderr",
     "output_type": "stream",
     "text": [
      "100%|█████████████████████████████████████████| 295/295 [02:50<00:00,  1.73it/s]\n"
     ]
    },
    {
     "name": "stdout",
     "output_type": "stream",
     "text": [
      "Epoch 15/25, Train Loss: 0.9903535506482851\n",
      "Epoch 15/25, Eval Loss: 1.017631923830187\n"
     ]
    },
    {
     "name": "stderr",
     "output_type": "stream",
     "text": [
      "100%|█████████████████████████████████████████| 295/295 [02:50<00:00,  1.73it/s]\n"
     ]
    },
    {
     "name": "stdout",
     "output_type": "stream",
     "text": [
      "Epoch 16/25, Train Loss: 0.9897423528008542\n",
      "Epoch 16/25, Eval Loss: 1.0174844748265035\n"
     ]
    },
    {
     "name": "stderr",
     "output_type": "stream",
     "text": [
      "100%|█████████████████████████████████████████| 295/295 [02:50<00:00,  1.73it/s]\n"
     ]
    },
    {
     "name": "stdout",
     "output_type": "stream",
     "text": [
      "Epoch 17/25, Train Loss: 0.989862270072355\n",
      "Epoch 17/25, Eval Loss: 1.0174449118407998\n"
     ]
    },
    {
     "name": "stderr",
     "output_type": "stream",
     "text": [
      "100%|█████████████████████████████████████████| 295/295 [02:50<00:00,  1.73it/s]\n"
     ]
    },
    {
     "name": "stdout",
     "output_type": "stream",
     "text": [
      "Epoch 18/25, Train Loss: 0.9895237984293598\n",
      "Epoch 18/25, Eval Loss: 1.0175107556420404\n"
     ]
    },
    {
     "name": "stderr",
     "output_type": "stream",
     "text": [
      "100%|█████████████████████████████████████████| 295/295 [02:50<00:00,  1.73it/s]\n"
     ]
    },
    {
     "name": "stdout",
     "output_type": "stream",
     "text": [
      "Epoch 19/25, Train Loss: 0.9874799685963129\n",
      "Epoch 19/25, Eval Loss: 1.0176732169615257\n"
     ]
    },
    {
     "name": "stderr",
     "output_type": "stream",
     "text": [
      "100%|█████████████████████████████████████████| 295/295 [02:50<00:00,  1.73it/s]\n"
     ]
    },
    {
     "name": "stdout",
     "output_type": "stream",
     "text": [
      "Epoch 20/25, Train Loss: 0.987523182569924\n",
      "Epoch 20/25, Eval Loss: 1.017928571314425\n"
     ]
    },
    {
     "name": "stderr",
     "output_type": "stream",
     "text": [
      "100%|█████████████████████████████████████████| 295/295 [02:50<00:00,  1.73it/s]\n"
     ]
    },
    {
     "name": "stdout",
     "output_type": "stream",
     "text": [
      "Epoch 21/25, Train Loss: 0.9880454506914494\n",
      "Epoch 21/25, Eval Loss: 1.0182590871243864\n"
     ]
    },
    {
     "name": "stderr",
     "output_type": "stream",
     "text": [
      "100%|█████████████████████████████████████████| 295/295 [02:50<00:00,  1.73it/s]\n"
     ]
    },
    {
     "name": "stdout",
     "output_type": "stream",
     "text": [
      "Epoch 22/25, Train Loss: 0.9877727274167336\n",
      "Epoch 22/25, Eval Loss: 1.0186659516514958\n"
     ]
    },
    {
     "name": "stderr",
     "output_type": "stream",
     "text": [
      "100%|█████████████████████████████████████████| 295/295 [02:50<00:00,  1.73it/s]\n"
     ]
    },
    {
     "name": "stdout",
     "output_type": "stream",
     "text": [
      "Epoch 23/25, Train Loss: 0.98988424559771\n",
      "Epoch 23/25, Eval Loss: 1.0191406720393412\n"
     ]
    },
    {
     "name": "stderr",
     "output_type": "stream",
     "text": [
      "100%|█████████████████████████████████████████| 295/295 [02:46<00:00,  1.78it/s]\n"
     ]
    },
    {
     "name": "stdout",
     "output_type": "stream",
     "text": [
      "Epoch 24/25, Train Loss: 0.990107697753583\n",
      "Epoch 24/25, Eval Loss: 1.0196734070777893\n"
     ]
    },
    {
     "name": "stderr",
     "output_type": "stream",
     "text": [
      "100%|█████████████████████████████████████████| 295/295 [02:50<00:00,  1.73it/s]\n"
     ]
    },
    {
     "name": "stdout",
     "output_type": "stream",
     "text": [
      "Epoch 25/25, Train Loss: 0.9887354527489614\n",
      "Epoch 25/25, Eval Loss: 1.0202648398038503\n"
     ]
    }
   ],
   "source": [
    "train_f1_list = []\n",
    "test_f1_list = []\n",
    "loss_train = []\n",
    "loss_test=[]\n",
    "\n",
    "for epoch in range(num_epochs):\n",
    "    model.train()\n",
    "    total_loss = 0\n",
    "    for n, ((input_ids,attention_mask),targets) in enumerate(tqdm(train_dataloader)):\n",
    "        input_ids = input_ids.to(device)\n",
    "        attention_mask = attention_mask.to(device)\n",
    "        targets = targets.to(device)\n",
    "        \n",
    "        outputs = model(input_ids = input_ids, attention_mask=attention_mask)\n",
    "        loss = criterion(outputs, targets)\n",
    "        loss.backward()\n",
    "        optimizer.step()\n",
    "        \n",
    "        total_loss += loss.item()\n",
    "    \n",
    "    train_loss = total_loss / len(train_dataloader)\n",
    "    print(f\"Epoch {epoch + 1}/{num_epochs}, Train Loss: {train_loss}\")\n",
    "    loss_train.append(train_loss)\n",
    "    \n",
    "    model.eval()\n",
    "    total_loss = 0\n",
    "    for n, ((input_id,attention_mask),labels) in enumerate(eval_dataloader):\n",
    "        input_id = input_id.to(device)\n",
    "        attention_mask = attention_mask.to(device)\n",
    "        labels = labels.to(device)\n",
    "        \n",
    "        outputs = model(input_id, attention_mask=attention_mask)\n",
    "        loss = criterion(outputs, labels)\n",
    "        total_loss += loss.item()\n",
    "    \n",
    "    eval_loss = total_loss / len(eval_dataloader)\n",
    "    print(f\"Epoch {epoch + 1}/{num_epochs}, Eval Loss: {eval_loss}\")\n",
    "    loss_test.append(eval_loss)"
   ]
  },
  {
   "cell_type": "markdown",
   "id": "cf5fb2df",
   "metadata": {},
   "source": [
    "## Plot results"
   ]
  },
  {
   "cell_type": "code",
   "execution_count": 13,
   "id": "6866073a",
   "metadata": {},
   "outputs": [
    {
     "data": {
      "text/plain": [
       "<matplotlib.legend.Legend at 0x7f98932ad9d0>"
      ]
     },
     "execution_count": 13,
     "metadata": {},
     "output_type": "execute_result"
    },
    {
     "data": {
      "image/png": "[encoded data removed]",
      "text/plain": [
       "<Figure size 640x480 with 1 Axes>"
      ]
     },
     "metadata": {},
     "output_type": "display_data"
    }
   ],
   "source": [
    "plt.plot(loss_train, label='train')\n",
    "plt.plot(loss_test, label='test')\n",
    "plt.legend()"
   ]
  },
  {
   "cell_type": "code",
   "execution_count": 14,
   "id": "ca250ed7",
   "metadata": {},
   "outputs": [
    {
     "data": {
      "text/plain": [
       "[0.7016629411733009,\n",
       " 0.7313165235600366,\n",
       " 0.7140055180405518,\n",
       " 0.8308375104376334]"
      ]
     },
     "execution_count": 14,
     "metadata": {},
     "output_type": "execute_result"
    }
   ],
   "source": [
    "num_variables = 4\n",
    "\n",
    "model.eval()  # Set the model to evaluation mode\n",
    "total_mae_per_variable = [0.0] * num_variables\n",
    "total_samples = 0\n",
    "\n",
    "with torch.no_grad():\n",
    "    for (input_ids, attention_mask), targets in eval_dataloader:\n",
    "        input_ids = input_ids.to(device)\n",
    "        attention_mask = attention_mask.to(device)\n",
    "        targets = targets.to(device)\n",
    "        predictions = model(input_ids = input_ids, attention_mask=attention_mask)\n",
    "\n",
    "        for i in range(num_variables):\n",
    "            mae_per_batch = F.l1_loss(predictions[:, i], targets[:, i], reduction='sum').item()\n",
    "            total_mae_per_variable[i] += mae_per_batch\n",
    "\n",
    "        total_samples += len(targets)\n",
    "\n",
    "mean_absolute_error_per_variable = [mae / total_samples for mae in total_mae_per_variable]\n",
    "mean_absolute_error_per_variable"
   ]
  },
  {
   "cell_type": "code",
   "execution_count": 15,
   "id": "51ca3b5f",
   "metadata": {},
   "outputs": [
    {
     "data": {
      "text/plain": [
       "tensor([71.4222,  0.4316,  0.9189,  0.9366])"
      ]
     },
     "execution_count": 15,
     "metadata": {},
     "output_type": "execute_result"
    }
   ],
   "source": [
    "y = df_selected[['Molecular Weight', '#RO5 Violations', 'AlogP','pChEMBL Value']].values.astype(float)\n",
    "y = torch.tensor(y, dtype=torch.float32)\n",
    "mean = y.mean(dim=0)\n",
    "std = y.std(dim=0)\n",
    "MAE = torch.tensor(mean_absolute_error_per_variable)*std\n",
    "MAE"
   ]
  },
  {
   "cell_type": "code",
   "execution_count": null,
   "id": "446cfec1",
   "metadata": {},
   "outputs": [],
   "source": []
  }
 ],
 "metadata": {
  "kernelspec": {
   "display_name": "intendd",
   "language": "python",
   "name": "intendd"
  },
  "language_info": {
   "codemirror_mode": {
    "name": "ipython",
    "version": 3
   },
   "file_extension": ".py",
   "mimetype": "text/x-python",
   "name": "python",
   "nbconvert_exporter": "python",
   "pygments_lexer": "ipython3",
   "version": "3.11.5"
  }
 },
 "nbformat": 4,
 "nbformat_minor": 5
}
