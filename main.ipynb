{
 "cells": [
  {
   "cell_type": "code",
   "execution_count": 16,
   "id": "b945da7d",
   "metadata": {},
   "outputs": [],
   "source": [
    "import pandas as pd\n",
    "from tqdm import tqdm\n",
    "import torch\n",
    "import torch.nn as nn\n",
    "import torch.nn.functional as F\n",
    "from torch import optim\n",
    "from torch.utils.data import Dataset, DataLoader\n",
    "from torchvision import transforms\n",
    "from transformers import RobertaConfig, RobertaModel, AutoTokenizer, AutoModel, RobertaTokenizerFast\n",
    "from sklearn.model_selection import train_test_split\n",
    "import matplotlib.pyplot as plt"
   ]
  },
  {
   "cell_type": "markdown",
   "id": "2d844c18",
   "metadata": {},
   "source": [
    "## Choose Model"
   ]
  },
  {
   "cell_type": "code",
   "execution_count": 2,
   "id": "f1e23108",
   "metadata": {},
   "outputs": [],
   "source": [
    "config = 'roberta'\n",
    "model_type = 'roberta' #GPT or roberta\n",
    "mode = 'test' #val or test"
   ]
  },
  {
   "cell_type": "code",
   "execution_count": 3,
   "id": "2988510c",
   "metadata": {
    "scrolled": true
   },
   "outputs": [
    {
     "name": "stderr",
     "output_type": "stream",
     "text": [
      "Special tokens have been added in the vocabulary, make sure the associated word embeddings are fine-tuned or trained.\n"
     ]
    }
   ],
   "source": [
    "if config == 'random_init':\n",
    "    tokenizer = AutoTokenizer.from_pretrained(\"DeepChem/ChemBERTa-10M-MTR\")\n",
    "    configuration = RobertaConfig()\n",
    "    base_model = RobertaModel(configuration)\n",
    "    \n",
    "elif config == 'roberta':\n",
    "    tokenizer = AutoTokenizer.from_pretrained(\"DeepChem/ChemBERTa-10M-MTR\")\n",
    "    configuration = RobertaConfig()\n",
    "    base_model = RobertaModel(configuration)\n",
    "    configuration = base_model.config\n",
    "\n",
    "elif config == 'ChemBERTa_pubchem':\n",
    "    tokenizer = AutoTokenizer.from_pretrained(\"seyonec/ChemBERTA_PubChem1M_shard00_155k\")\n",
    "    base_model = AutoModel.from_pretrained(\"seyonec/ChemBERTA_PubChem1M_shard00_155k\")\n",
    "    \n",
    "elif config == 'ChemBERTa_10M':\n",
    "    tokenizer = AutoTokenizer.from_pretrained(\"DeepChem/ChemBERTa-10M-MTR\")\n",
    "    base_model = AutoModel.from_pretrained(\"DeepChem/ChemBERTa-10M-MTR\")\n",
    "\n",
    "elif config == 'ChemGPT':\n",
    "    tokenizer = AutoTokenizer.from_pretrained(\"ncfrey/ChemGPT-1.2B\")\n",
    "    base_model = AutoModel.from_pretrained(\"ncfrey/ChemGPT-1.2B\")"
   ]
  },
  {
   "cell_type": "code",
   "execution_count": 4,
   "id": "b16e41f5",
   "metadata": {},
   "outputs": [
    {
     "name": "stdout",
     "output_type": "stream",
     "text": [
      "Total number of parameters in selected model (without head): 124644864\n"
     ]
    }
   ],
   "source": [
    "num_params = 0\n",
    "for params in base_model.parameters():\n",
    "    num_params+=params.numel()\n",
    "print('Total number of parameters in selected model (without head):',num_params)"
   ]
  },
  {
   "cell_type": "code",
   "execution_count": 5,
   "id": "5a610f45",
   "metadata": {},
   "outputs": [],
   "source": [
    "class FullModel(nn.Module):\n",
    "    def __init__(self, base_model, model_type, num_outputs):\n",
    "        super(FullModel, self).__init__()\n",
    "        self.model_type = model_type\n",
    "        self.base = base_model\n",
    "        \n",
    "        self.lin1 = nn.Linear(base_model.config.hidden_size, 512)\n",
    "        self.relu = nn.ReLU()\n",
    "        self.lin2 = nn.Linear(512, num_outputs)\n",
    "\n",
    "    def forward(self, input_ids, attention_mask):\n",
    "        # Pass the input through base model\n",
    "        outputs = self.base(input_ids=input_ids, attention_mask=attention_mask)\n",
    "\n",
    "        # Apply the linear layer for classification\n",
    "        if model_type == 'roberta':\n",
    "            x = self.relu(self.lin1(outputs['pooler_output']))\n",
    "        elif model_type =='GPT':\n",
    "            x = self.relu(self.lin1(outputs['last_hidden_state'][:,-1,:]))\n",
    "        x = self.lin2(x)\n",
    "\n",
    "        return x"
   ]
  },
  {
   "cell_type": "code",
   "execution_count": 6,
   "id": "9bcc3c2d",
   "metadata": {
    "scrolled": true
   },
   "outputs": [
    {
     "data": {
      "text/plain": [
       "FullModel(\n",
       "  (base): RobertaModel(\n",
       "    (embeddings): RobertaEmbeddings(\n",
       "      (word_embeddings): Embedding(50265, 768, padding_idx=1)\n",
       "      (position_embeddings): Embedding(512, 768, padding_idx=1)\n",
       "      (token_type_embeddings): Embedding(2, 768)\n",
       "      (LayerNorm): LayerNorm((768,), eps=1e-12, elementwise_affine=True)\n",
       "      (dropout): Dropout(p=0.1, inplace=False)\n",
       "    )\n",
       "    (encoder): RobertaEncoder(\n",
       "      (layer): ModuleList(\n",
       "        (0-11): 12 x RobertaLayer(\n",
       "          (attention): RobertaAttention(\n",
       "            (self): RobertaSelfAttention(\n",
       "              (query): Linear(in_features=768, out_features=768, bias=True)\n",
       "              (key): Linear(in_features=768, out_features=768, bias=True)\n",
       "              (value): Linear(in_features=768, out_features=768, bias=True)\n",
       "              (dropout): Dropout(p=0.1, inplace=False)\n",
       "            )\n",
       "            (output): RobertaSelfOutput(\n",
       "              (dense): Linear(in_features=768, out_features=768, bias=True)\n",
       "              (LayerNorm): LayerNorm((768,), eps=1e-12, elementwise_affine=True)\n",
       "              (dropout): Dropout(p=0.1, inplace=False)\n",
       "            )\n",
       "          )\n",
       "          (intermediate): RobertaIntermediate(\n",
       "            (dense): Linear(in_features=768, out_features=3072, bias=True)\n",
       "            (intermediate_act_fn): GELUActivation()\n",
       "          )\n",
       "          (output): RobertaOutput(\n",
       "            (dense): Linear(in_features=3072, out_features=768, bias=True)\n",
       "            (LayerNorm): LayerNorm((768,), eps=1e-12, elementwise_affine=True)\n",
       "            (dropout): Dropout(p=0.1, inplace=False)\n",
       "          )\n",
       "        )\n",
       "      )\n",
       "    )\n",
       "    (pooler): RobertaPooler(\n",
       "      (dense): Linear(in_features=768, out_features=768, bias=True)\n",
       "      (activation): Tanh()\n",
       "    )\n",
       "  )\n",
       "  (lin1): Linear(in_features=768, out_features=512, bias=True)\n",
       "  (relu): ReLU()\n",
       "  (lin2): Linear(in_features=512, out_features=4, bias=True)\n",
       ")"
      ]
     },
     "execution_count": 6,
     "metadata": {},
     "output_type": "execute_result"
    }
   ],
   "source": [
    "model = FullModel(base_model, model_type, num_outputs = 4)\n",
    "\n",
    "torch.cuda.set_device(1)\n",
    "\n",
    "device = torch.device(\"cuda\" if torch.cuda.is_available() else \"cpu\")\n",
    "model.to(device)"
   ]
  },
  {
   "cell_type": "markdown",
   "id": "d0d0ec97",
   "metadata": {},
   "source": [
    "## Loading Data and Preprocessing"
   ]
  },
  {
   "cell_type": "code",
   "execution_count": 7,
   "id": "df30cc21",
   "metadata": {
    "scrolled": true
   },
   "outputs": [],
   "source": [
    "df = pd.read_csv('parkinsons.csv')\n",
    "selected_columns = ['Molecular Weight', '#RO5 Violations','Smiles', 'AlogP', 'pChEMBL Value']\n",
    "columns_to_check = ['Molecular Weight', '#RO5 Violations', 'AlogP', 'pChEMBL Value']\n",
    "for col in columns_to_check:\n",
    "    df = df[pd.to_numeric(df[col], errors='coerce').notnull()]\n",
    "df_selected = df[selected_columns].dropna()\n",
    "# df_selected"
   ]
  },
  {
   "cell_type": "code",
   "execution_count": 8,
   "id": "93ad80e5",
   "metadata": {},
   "outputs": [],
   "source": [
    "test_size = 0.2\n",
    "val_size = 0.5\n",
    "\n",
    "train_df, test_df = train_test_split(df_selected, test_size=test_size, random_state=42)\n",
    "test_df, val_df = train_test_split(test_df, test_size=val_size, random_state=42)"
   ]
  },
  {
   "cell_type": "code",
   "execution_count": 9,
   "id": "9fa384b3",
   "metadata": {},
   "outputs": [],
   "source": [
    "class smiles_dataset(Dataset):\n",
    " \n",
    "    def __init__(self,df):\n",
    "        if tokenizer.pad_token is None:\n",
    "            print(\"no padding defined in tokenizer, using [PAD] token by default\")\n",
    "            tokenizer.add_special_tokens({'pad_token': '[PAD]'})\n",
    "        self.encodings = tokenizer(df[\"Smiles\"].tolist(), return_tensors=\"pt\",truncation=True, padding=True)\n",
    "        data = df[['Molecular Weight', '#RO5 Violations', 'AlogP','pChEMBL Value']].values.astype(float)\n",
    "        \n",
    "        self.y = torch.tensor(data, dtype=torch.float32)\n",
    "        mean = self.y.mean(dim=0)\n",
    "        std = self.y.std(dim=0)\n",
    "        self.y = (self.y - mean) / std\n",
    "    \n",
    "    def __len__(self):\n",
    "        return len(self.y)\n",
    "   \n",
    "    def __getitem__(self,idx):\n",
    "        input_ids = self.encodings['input_ids'][idx]\n",
    "        attention_mask = self.encodings['attention_mask'][idx]\n",
    "        return (input_ids, attention_mask),self.y[idx]"
   ]
  },
  {
   "cell_type": "code",
   "execution_count": 10,
   "id": "01cdaa1b",
   "metadata": {
    "scrolled": true
   },
   "outputs": [],
   "source": [
    "train_data = smiles_dataset(train_df)\n",
    "test_data = smiles_dataset(test_df)\n",
    "val_data = smiles_dataset(val_df)\n",
    "\n",
    "batch_size = 32\n",
    "\n",
    "train_dataloader = DataLoader(train_data, batch_size = batch_size, shuffle=True)\n",
    "if mode=='val':\n",
    "    eval_dataloader = DataLoader(val_data, batch_size = batch_size)\n",
    "elif mode=='test':\n",
    "    eval_dataloader = DataLoader(test_data, batch_size = batch_size)"
   ]
  },
  {
   "cell_type": "markdown",
   "id": "960cd299",
   "metadata": {},
   "source": [
    "## Train"
   ]
  },
  {
   "cell_type": "code",
   "execution_count": 11,
   "id": "481c0bf3",
   "metadata": {},
   "outputs": [],
   "source": [
    "learning_rate = 5e-8\n",
    "num_epochs = 150\n",
    "weight_decay=1e-9\n",
    "optimizer = optim.AdamW(model.parameters(), lr=learning_rate, weight_decay=weight_decay)\n",
    "criterion = nn.MSELoss()"
   ]
  },
  {
   "cell_type": "code",
   "execution_count": 12,
   "id": "60078d44",
   "metadata": {
    "scrolled": true
   },
   "outputs": [
    {
     "name": "stderr",
     "output_type": "stream",
     "text": [
      "100%|█████████████████████████████████████████| 295/295 [00:45<00:00,  6.42it/s]\n"
     ]
    },
    {
     "name": "stdout",
     "output_type": "stream",
     "text": [
      "Epoch 1/150, Train Loss: 0.9971062323804629\n",
      "Epoch 1/150, Eval Loss: 0.981082974253474\n"
     ]
    },
    {
     "name": "stderr",
     "output_type": "stream",
     "text": [
      "100%|█████████████████████████████████████████| 295/295 [00:45<00:00,  6.47it/s]\n"
     ]
    },
    {
     "name": "stdout",
     "output_type": "stream",
     "text": [
      "Epoch 2/150, Train Loss: 0.9735932327933231\n",
      "Epoch 2/150, Eval Loss: 0.9447470565099974\n"
     ]
    },
    {
     "name": "stderr",
     "output_type": "stream",
     "text": [
      "100%|█████████████████████████████████████████| 295/295 [00:45<00:00,  6.43it/s]\n"
     ]
    },
    {
     "name": "stdout",
     "output_type": "stream",
     "text": [
      "Epoch 3/150, Train Loss: 0.9362405203156552\n",
      "Epoch 3/150, Eval Loss: 0.8786225447783599\n"
     ]
    },
    {
     "name": "stderr",
     "output_type": "stream",
     "text": [
      "100%|█████████████████████████████████████████| 295/295 [00:46<00:00,  6.39it/s]\n"
     ]
    },
    {
     "name": "stdout",
     "output_type": "stream",
     "text": [
      "Epoch 4/150, Train Loss: 0.8842532545833265\n",
      "Epoch 4/150, Eval Loss: 0.8422240969297048\n"
     ]
    },
    {
     "name": "stderr",
     "output_type": "stream",
     "text": [
      "100%|█████████████████████████████████████████| 295/295 [00:46<00:00,  6.37it/s]\n"
     ]
    },
    {
     "name": "stdout",
     "output_type": "stream",
     "text": [
      "Epoch 5/150, Train Loss: 0.8246259822683819\n",
      "Epoch 5/150, Eval Loss: 0.7167558396184767\n"
     ]
    },
    {
     "name": "stderr",
     "output_type": "stream",
     "text": [
      "100%|█████████████████████████████████████████| 295/295 [00:46<00:00,  6.33it/s]\n"
     ]
    },
    {
     "name": "stdout",
     "output_type": "stream",
     "text": [
      "Epoch 6/150, Train Loss: 0.7941905323731697\n",
      "Epoch 6/150, Eval Loss: 0.68260426376317\n"
     ]
    },
    {
     "name": "stderr",
     "output_type": "stream",
     "text": [
      "100%|█████████████████████████████████████████| 295/295 [00:46<00:00,  6.32it/s]\n"
     ]
    },
    {
     "name": "stdout",
     "output_type": "stream",
     "text": [
      "Epoch 7/150, Train Loss: 0.8420006419642497\n",
      "Epoch 7/150, Eval Loss: 0.7939605680671898\n"
     ]
    },
    {
     "name": "stderr",
     "output_type": "stream",
     "text": [
      "100%|█████████████████████████████████████████| 295/295 [00:46<00:00,  6.31it/s]\n"
     ]
    },
    {
     "name": "stdout",
     "output_type": "stream",
     "text": [
      "Epoch 8/150, Train Loss: 0.7881689165608358\n",
      "Epoch 8/150, Eval Loss: 0.7129131080331029\n"
     ]
    },
    {
     "name": "stderr",
     "output_type": "stream",
     "text": [
      "100%|█████████████████████████████████████████| 295/295 [00:46<00:00,  6.30it/s]\n"
     ]
    },
    {
     "name": "stdout",
     "output_type": "stream",
     "text": [
      "Epoch 9/150, Train Loss: 0.8135918774847257\n",
      "Epoch 9/150, Eval Loss: 0.6980595218168723\n"
     ]
    },
    {
     "name": "stderr",
     "output_type": "stream",
     "text": [
      "100%|█████████████████████████████████████████| 295/295 [00:46<00:00,  6.28it/s]\n"
     ]
    },
    {
     "name": "stdout",
     "output_type": "stream",
     "text": [
      "Epoch 10/150, Train Loss: 0.8133617402133295\n",
      "Epoch 10/150, Eval Loss: 0.6742309855448233\n"
     ]
    },
    {
     "name": "stderr",
     "output_type": "stream",
     "text": [
      "100%|█████████████████████████████████████████| 295/295 [00:47<00:00,  6.26it/s]\n"
     ]
    },
    {
     "name": "stdout",
     "output_type": "stream",
     "text": [
      "Epoch 11/150, Train Loss: 0.7888339594259101\n",
      "Epoch 11/150, Eval Loss: 0.8051041268013619\n"
     ]
    },
    {
     "name": "stderr",
     "output_type": "stream",
     "text": [
      "100%|█████████████████████████████████████████| 295/295 [00:47<00:00,  6.25it/s]\n"
     ]
    },
    {
     "name": "stdout",
     "output_type": "stream",
     "text": [
      "Epoch 12/150, Train Loss: 0.7276861037238169\n",
      "Epoch 12/150, Eval Loss: 0.7572403453491829\n"
     ]
    },
    {
     "name": "stderr",
     "output_type": "stream",
     "text": [
      "100%|█████████████████████████████████████████| 295/295 [00:47<00:00,  6.26it/s]\n"
     ]
    },
    {
     "name": "stdout",
     "output_type": "stream",
     "text": [
      "Epoch 13/150, Train Loss: 0.7523281319666717\n",
      "Epoch 13/150, Eval Loss: 0.639332917896477\n"
     ]
    },
    {
     "name": "stderr",
     "output_type": "stream",
     "text": [
      "100%|█████████████████████████████████████████| 295/295 [00:47<00:00,  6.25it/s]\n"
     ]
    },
    {
     "name": "stdout",
     "output_type": "stream",
     "text": [
      "Epoch 14/150, Train Loss: 0.7144000599950047\n",
      "Epoch 14/150, Eval Loss: 0.7145500964409596\n"
     ]
    },
    {
     "name": "stderr",
     "output_type": "stream",
     "text": [
      "100%|█████████████████████████████████████████| 295/295 [00:47<00:00,  6.25it/s]\n"
     ]
    },
    {
     "name": "stdout",
     "output_type": "stream",
     "text": [
      "Epoch 15/150, Train Loss: 0.6875731375257847\n",
      "Epoch 15/150, Eval Loss: 0.673502070678247\n"
     ]
    },
    {
     "name": "stderr",
     "output_type": "stream",
     "text": [
      "100%|█████████████████████████████████████████| 295/295 [00:47<00:00,  6.25it/s]\n"
     ]
    },
    {
     "name": "stdout",
     "output_type": "stream",
     "text": [
      "Epoch 16/150, Train Loss: 0.6719984924389144\n",
      "Epoch 16/150, Eval Loss: 0.6365576209248723\n"
     ]
    },
    {
     "name": "stderr",
     "output_type": "stream",
     "text": [
      "100%|█████████████████████████████████████████| 295/295 [00:47<00:00,  6.24it/s]\n"
     ]
    },
    {
     "name": "stdout",
     "output_type": "stream",
     "text": [
      "Epoch 17/150, Train Loss: 0.6591869350207054\n",
      "Epoch 17/150, Eval Loss: 0.5941091373160079\n"
     ]
    },
    {
     "name": "stderr",
     "output_type": "stream",
     "text": [
      "100%|█████████████████████████████████████████| 295/295 [00:47<00:00,  6.24it/s]\n"
     ]
    },
    {
     "name": "stdout",
     "output_type": "stream",
     "text": [
      "Epoch 18/150, Train Loss: 0.6403968461489273\n",
      "Epoch 18/150, Eval Loss: 0.6554667941621832\n"
     ]
    },
    {
     "name": "stderr",
     "output_type": "stream",
     "text": [
      "100%|█████████████████████████████████████████| 295/295 [00:47<00:00,  6.24it/s]\n"
     ]
    },
    {
     "name": "stdout",
     "output_type": "stream",
     "text": [
      "Epoch 19/150, Train Loss: 0.604421337479252\n",
      "Epoch 19/150, Eval Loss: 0.5567252144620225\n"
     ]
    },
    {
     "name": "stderr",
     "output_type": "stream",
     "text": [
      "100%|█████████████████████████████████████████| 295/295 [00:47<00:00,  6.24it/s]\n"
     ]
    },
    {
     "name": "stdout",
     "output_type": "stream",
     "text": [
      "Epoch 20/150, Train Loss: 0.6020478578947358\n",
      "Epoch 20/150, Eval Loss: 0.5619703716522938\n"
     ]
    },
    {
     "name": "stderr",
     "output_type": "stream",
     "text": [
      "100%|█████████████████████████████████████████| 295/295 [00:47<00:00,  6.24it/s]\n"
     ]
    },
    {
     "name": "stdout",
     "output_type": "stream",
     "text": [
      "Epoch 21/150, Train Loss: 0.5785969836226964\n",
      "Epoch 21/150, Eval Loss: 0.5105863173265714\n"
     ]
    },
    {
     "name": "stderr",
     "output_type": "stream",
     "text": [
      "100%|█████████████████████████████████████████| 295/295 [00:47<00:00,  6.24it/s]\n"
     ]
    },
    {
     "name": "stdout",
     "output_type": "stream",
     "text": [
      "Epoch 22/150, Train Loss: 0.5659035218974291\n",
      "Epoch 22/150, Eval Loss: 0.5555308807540584\n"
     ]
    },
    {
     "name": "stderr",
     "output_type": "stream",
     "text": [
      "100%|█████████████████████████████████████████| 295/295 [00:50<00:00,  5.80it/s]\n"
     ]
    },
    {
     "name": "stdout",
     "output_type": "stream",
     "text": [
      "Epoch 23/150, Train Loss: 0.5695086412510629\n",
      "Epoch 23/150, Eval Loss: 0.5282840648212949\n"
     ]
    },
    {
     "name": "stderr",
     "output_type": "stream",
     "text": [
      "100%|█████████████████████████████████████████| 295/295 [01:07<00:00,  4.34it/s]\n"
     ]
    },
    {
     "name": "stdout",
     "output_type": "stream",
     "text": [
      "Epoch 24/150, Train Loss: 0.5407253348221213\n",
      "Epoch 24/150, Eval Loss: 0.537167671564463\n"
     ]
    },
    {
     "name": "stderr",
     "output_type": "stream",
     "text": [
      "100%|█████████████████████████████████████████| 295/295 [01:10<00:00,  4.17it/s]\n"
     ]
    },
    {
     "name": "stdout",
     "output_type": "stream",
     "text": [
      "Epoch 25/150, Train Loss: 0.5468787525670004\n",
      "Epoch 25/150, Eval Loss: 0.5231715102453489\n"
     ]
    },
    {
     "name": "stderr",
     "output_type": "stream",
     "text": [
      "100%|█████████████████████████████████████████| 295/295 [01:07<00:00,  4.37it/s]\n"
     ]
    },
    {
     "name": "stdout",
     "output_type": "stream",
     "text": [
      "Epoch 26/150, Train Loss: 0.5433211762016102\n",
      "Epoch 26/150, Eval Loss: 0.5318301601989849\n"
     ]
    },
    {
     "name": "stderr",
     "output_type": "stream",
     "text": [
      "100%|█████████████████████████████████████████| 295/295 [00:49<00:00,  5.99it/s]\n"
     ]
    },
    {
     "name": "stdout",
     "output_type": "stream",
     "text": [
      "Epoch 27/150, Train Loss: 0.5246278916375112\n",
      "Epoch 27/150, Eval Loss: 0.5186881334395022\n"
     ]
    },
    {
     "name": "stderr",
     "output_type": "stream",
     "text": [
      "100%|█████████████████████████████████████████| 295/295 [00:47<00:00,  6.16it/s]\n"
     ]
    },
    {
     "name": "stdout",
     "output_type": "stream",
     "text": [
      "Epoch 28/150, Train Loss: 0.5344295970464157\n",
      "Epoch 28/150, Eval Loss: 0.5504989688460892\n"
     ]
    },
    {
     "name": "stderr",
     "output_type": "stream",
     "text": [
      "100%|█████████████████████████████████████████| 295/295 [00:47<00:00,  6.19it/s]\n"
     ]
    },
    {
     "name": "stdout",
     "output_type": "stream",
     "text": [
      "Epoch 29/150, Train Loss: 0.5271798037876517\n",
      "Epoch 29/150, Eval Loss: 0.4967000814708504\n"
     ]
    },
    {
     "name": "stderr",
     "output_type": "stream",
     "text": [
      "100%|█████████████████████████████████████████| 295/295 [00:47<00:00,  6.21it/s]\n"
     ]
    },
    {
     "name": "stdout",
     "output_type": "stream",
     "text": [
      "Epoch 30/150, Train Loss: 0.5064515506311998\n",
      "Epoch 30/150, Eval Loss: 0.4888257819253045\n"
     ]
    },
    {
     "name": "stderr",
     "output_type": "stream",
     "text": [
      "100%|█████████████████████████████████████████| 295/295 [00:47<00:00,  6.23it/s]\n"
     ]
    },
    {
     "name": "stdout",
     "output_type": "stream",
     "text": [
      "Epoch 31/150, Train Loss: 0.5108006445028014\n",
      "Epoch 31/150, Eval Loss: 0.4616164597305092\n"
     ]
    },
    {
     "name": "stderr",
     "output_type": "stream",
     "text": [
      "100%|█████████████████████████████████████████| 295/295 [00:47<00:00,  6.24it/s]\n"
     ]
    },
    {
     "name": "stdout",
     "output_type": "stream",
     "text": [
      "Epoch 32/150, Train Loss: 0.5099029163182792\n",
      "Epoch 32/150, Eval Loss: 0.4458318481574187\n"
     ]
    },
    {
     "name": "stderr",
     "output_type": "stream",
     "text": [
      "100%|█████████████████████████████████████████| 295/295 [00:47<00:00,  6.24it/s]\n"
     ]
    },
    {
     "name": "stdout",
     "output_type": "stream",
     "text": [
      "Epoch 33/150, Train Loss: 0.5034336084026402\n",
      "Epoch 33/150, Eval Loss: 0.4784147288348224\n"
     ]
    },
    {
     "name": "stderr",
     "output_type": "stream",
     "text": [
      "100%|█████████████████████████████████████████| 295/295 [00:47<00:00,  6.24it/s]\n"
     ]
    },
    {
     "name": "stdout",
     "output_type": "stream",
     "text": [
      "Epoch 34/150, Train Loss: 0.4941035857645132\n",
      "Epoch 34/150, Eval Loss: 0.49388583930763036\n"
     ]
    },
    {
     "name": "stderr",
     "output_type": "stream",
     "text": [
      "100%|█████████████████████████████████████████| 295/295 [00:47<00:00,  6.25it/s]\n"
     ]
    },
    {
     "name": "stdout",
     "output_type": "stream",
     "text": [
      "Epoch 35/150, Train Loss: 0.48247543391534836\n",
      "Epoch 35/150, Eval Loss: 0.4628101007358448\n"
     ]
    },
    {
     "name": "stderr",
     "output_type": "stream",
     "text": [
      "100%|█████████████████████████████████████████| 295/295 [00:47<00:00,  6.25it/s]\n"
     ]
    },
    {
     "name": "stdout",
     "output_type": "stream",
     "text": [
      "Epoch 36/150, Train Loss: 0.49126127180406604\n",
      "Epoch 36/150, Eval Loss: 0.4339202650495478\n"
     ]
    },
    {
     "name": "stderr",
     "output_type": "stream",
     "text": [
      "100%|█████████████████████████████████████████| 295/295 [00:47<00:00,  6.24it/s]\n"
     ]
    },
    {
     "name": "stdout",
     "output_type": "stream",
     "text": [
      "Epoch 37/150, Train Loss: 0.486945702514406\n",
      "Epoch 37/150, Eval Loss: 0.4589002881501172\n"
     ]
    },
    {
     "name": "stderr",
     "output_type": "stream",
     "text": [
      "100%|█████████████████████████████████████████| 295/295 [00:47<00:00,  6.25it/s]\n"
     ]
    },
    {
     "name": "stdout",
     "output_type": "stream",
     "text": [
      "Epoch 38/150, Train Loss: 0.4698857712543617\n",
      "Epoch 38/150, Eval Loss: 0.4823079358887028\n"
     ]
    },
    {
     "name": "stderr",
     "output_type": "stream",
     "text": [
      "100%|█████████████████████████████████████████| 295/295 [00:47<00:00,  6.25it/s]\n"
     ]
    },
    {
     "name": "stdout",
     "output_type": "stream",
     "text": [
      "Epoch 39/150, Train Loss: 0.48123717030226176\n",
      "Epoch 39/150, Eval Loss: 0.4360173449322984\n"
     ]
    },
    {
     "name": "stderr",
     "output_type": "stream",
     "text": [
      "100%|█████████████████████████████████████████| 295/295 [00:47<00:00,  6.25it/s]\n"
     ]
    },
    {
     "name": "stdout",
     "output_type": "stream",
     "text": [
      "Epoch 40/150, Train Loss: 0.48111151704343696\n",
      "Epoch 40/150, Eval Loss: 0.45628505623018417\n"
     ]
    },
    {
     "name": "stderr",
     "output_type": "stream",
     "text": [
      "100%|█████████████████████████████████████████| 295/295 [00:47<00:00,  6.26it/s]\n"
     ]
    },
    {
     "name": "stdout",
     "output_type": "stream",
     "text": [
      "Epoch 41/150, Train Loss: 0.4628172858286712\n",
      "Epoch 41/150, Eval Loss: 0.4700070973989126\n"
     ]
    },
    {
     "name": "stderr",
     "output_type": "stream",
     "text": [
      "100%|█████████████████████████████████████████| 295/295 [00:47<00:00,  6.25it/s]\n"
     ]
    },
    {
     "name": "stdout",
     "output_type": "stream",
     "text": [
      "Epoch 42/150, Train Loss: 0.46623067234532306\n",
      "Epoch 42/150, Eval Loss: 0.42792420572525747\n"
     ]
    },
    {
     "name": "stderr",
     "output_type": "stream",
     "text": [
      "100%|█████████████████████████████████████████| 295/295 [00:47<00:00,  6.25it/s]\n"
     ]
    },
    {
     "name": "stdout",
     "output_type": "stream",
     "text": [
      "Epoch 43/150, Train Loss: 0.4710076792765472\n",
      "Epoch 43/150, Eval Loss: 0.45203005059345347\n"
     ]
    },
    {
     "name": "stderr",
     "output_type": "stream",
     "text": [
      "100%|█████████████████████████████████████████| 295/295 [00:47<00:00,  6.25it/s]\n"
     ]
    },
    {
     "name": "stdout",
     "output_type": "stream",
     "text": [
      "Epoch 44/150, Train Loss: 0.4487363076816171\n",
      "Epoch 44/150, Eval Loss: 0.4389485314085677\n"
     ]
    },
    {
     "name": "stderr",
     "output_type": "stream",
     "text": [
      "100%|█████████████████████████████████████████| 295/295 [00:47<00:00,  6.25it/s]\n"
     ]
    },
    {
     "name": "stdout",
     "output_type": "stream",
     "text": [
      "Epoch 45/150, Train Loss: 0.454833968514103\n",
      "Epoch 45/150, Eval Loss: 0.41491727571229675\n"
     ]
    },
    {
     "name": "stderr",
     "output_type": "stream",
     "text": [
      "100%|█████████████████████████████████████████| 295/295 [00:47<00:00,  6.27it/s]\n"
     ]
    },
    {
     "name": "stdout",
     "output_type": "stream",
     "text": [
      "Epoch 46/150, Train Loss: 0.4499323792376761\n",
      "Epoch 46/150, Eval Loss: 0.4280179589986801\n"
     ]
    },
    {
     "name": "stderr",
     "output_type": "stream",
     "text": [
      "100%|█████████████████████████████████████████| 295/295 [00:47<00:00,  6.26it/s]\n"
     ]
    },
    {
     "name": "stdout",
     "output_type": "stream",
     "text": [
      "Epoch 47/150, Train Loss: 0.43690248652029845\n",
      "Epoch 47/150, Eval Loss: 0.43039880652685425\n"
     ]
    },
    {
     "name": "stderr",
     "output_type": "stream",
     "text": [
      "100%|█████████████████████████████████████████| 295/295 [00:47<00:00,  6.24it/s]\n"
     ]
    },
    {
     "name": "stdout",
     "output_type": "stream",
     "text": [
      "Epoch 48/150, Train Loss: 0.4402685347249952\n",
      "Epoch 48/150, Eval Loss: 0.41032562304187464\n"
     ]
    },
    {
     "name": "stderr",
     "output_type": "stream",
     "text": [
      "100%|█████████████████████████████████████████| 295/295 [00:47<00:00,  6.26it/s]\n"
     ]
    },
    {
     "name": "stdout",
     "output_type": "stream",
     "text": [
      "Epoch 49/150, Train Loss: 0.4342175312466541\n",
      "Epoch 49/150, Eval Loss: 0.40717100130545125\n"
     ]
    },
    {
     "name": "stderr",
     "output_type": "stream",
     "text": [
      "100%|█████████████████████████████████████████| 295/295 [00:47<00:00,  6.24it/s]\n"
     ]
    },
    {
     "name": "stdout",
     "output_type": "stream",
     "text": [
      "Epoch 50/150, Train Loss: 0.43335343594268216\n",
      "Epoch 50/150, Eval Loss: 0.41742643875044744\n"
     ]
    },
    {
     "name": "stderr",
     "output_type": "stream",
     "text": [
      "100%|█████████████████████████████████████████| 295/295 [00:47<00:00,  6.25it/s]\n"
     ]
    },
    {
     "name": "stdout",
     "output_type": "stream",
     "text": [
      "Epoch 51/150, Train Loss: 0.4226138850389901\n",
      "Epoch 51/150, Eval Loss: 0.4145627964187313\n"
     ]
    },
    {
     "name": "stderr",
     "output_type": "stream",
     "text": [
      "100%|█████████████████████████████████████████| 295/295 [00:47<00:00,  6.25it/s]\n"
     ]
    },
    {
     "name": "stdout",
     "output_type": "stream",
     "text": [
      "Epoch 52/150, Train Loss: 0.4247738712419898\n",
      "Epoch 52/150, Eval Loss: 0.39746025849033045\n"
     ]
    },
    {
     "name": "stderr",
     "output_type": "stream",
     "text": [
      "100%|█████████████████████████████████████████| 295/295 [00:47<00:00,  6.25it/s]\n"
     ]
    },
    {
     "name": "stdout",
     "output_type": "stream",
     "text": [
      "Epoch 53/150, Train Loss: 0.4253792603137129\n",
      "Epoch 53/150, Eval Loss: 0.39792275750959244\n"
     ]
    },
    {
     "name": "stderr",
     "output_type": "stream",
     "text": [
      "100%|█████████████████████████████████████████| 295/295 [00:47<00:00,  6.22it/s]\n"
     ]
    },
    {
     "name": "stdout",
     "output_type": "stream",
     "text": [
      "Epoch 54/150, Train Loss: 0.4164481063010329\n",
      "Epoch 54/150, Eval Loss: 0.4106445014476776\n"
     ]
    },
    {
     "name": "stderr",
     "output_type": "stream",
     "text": [
      "100%|█████████████████████████████████████████| 295/295 [00:46<00:00,  6.28it/s]\n"
     ]
    },
    {
     "name": "stdout",
     "output_type": "stream",
     "text": [
      "Epoch 55/150, Train Loss: 0.41680979935799617\n",
      "Epoch 55/150, Eval Loss: 0.39955610922864965\n"
     ]
    },
    {
     "name": "stderr",
     "output_type": "stream",
     "text": [
      "100%|█████████████████████████████████████████| 295/295 [00:47<00:00,  6.27it/s]\n"
     ]
    },
    {
     "name": "stdout",
     "output_type": "stream",
     "text": [
      "Epoch 56/150, Train Loss: 0.41263246031130774\n",
      "Epoch 56/150, Eval Loss: 0.39922654789847295\n"
     ]
    },
    {
     "name": "stderr",
     "output_type": "stream",
     "text": [
      "100%|█████████████████████████████████████████| 295/295 [00:47<00:00,  6.28it/s]\n"
     ]
    },
    {
     "name": "stdout",
     "output_type": "stream",
     "text": [
      "Epoch 57/150, Train Loss: 0.4155592349121126\n",
      "Epoch 57/150, Eval Loss: 0.38655326334205836\n"
     ]
    },
    {
     "name": "stderr",
     "output_type": "stream",
     "text": [
      "100%|█████████████████████████████████████████| 295/295 [00:47<00:00,  6.27it/s]\n"
     ]
    },
    {
     "name": "stdout",
     "output_type": "stream",
     "text": [
      "Epoch 58/150, Train Loss: 0.4081644857333878\n",
      "Epoch 58/150, Eval Loss: 0.3947377559301016\n"
     ]
    },
    {
     "name": "stderr",
     "output_type": "stream",
     "text": [
      "100%|█████████████████████████████████████████| 295/295 [00:47<00:00,  6.27it/s]\n"
     ]
    },
    {
     "name": "stdout",
     "output_type": "stream",
     "text": [
      "Epoch 59/150, Train Loss: 0.40565558975025756\n",
      "Epoch 59/150, Eval Loss: 0.39721693783193024\n"
     ]
    },
    {
     "name": "stderr",
     "output_type": "stream",
     "text": [
      "100%|█████████████████████████████████████████| 295/295 [00:46<00:00,  6.28it/s]\n"
     ]
    },
    {
     "name": "stdout",
     "output_type": "stream",
     "text": [
      "Epoch 60/150, Train Loss: 0.4044032097367917\n",
      "Epoch 60/150, Eval Loss: 0.38420430470157313\n"
     ]
    },
    {
     "name": "stderr",
     "output_type": "stream",
     "text": [
      "100%|█████████████████████████████████████████| 295/295 [00:46<00:00,  6.28it/s]\n"
     ]
    },
    {
     "name": "stdout",
     "output_type": "stream",
     "text": [
      "Epoch 61/150, Train Loss: 0.40214691914744294\n",
      "Epoch 61/150, Eval Loss: 0.3834339911873276\n"
     ]
    },
    {
     "name": "stderr",
     "output_type": "stream",
     "text": [
      "100%|█████████████████████████████████████████| 295/295 [00:46<00:00,  6.28it/s]\n"
     ]
    },
    {
     "name": "stdout",
     "output_type": "stream",
     "text": [
      "Epoch 62/150, Train Loss: 0.39739559883788483\n",
      "Epoch 62/150, Eval Loss: 0.3819367378144651\n"
     ]
    },
    {
     "name": "stderr",
     "output_type": "stream",
     "text": [
      "100%|█████████████████████████████████████████| 295/295 [00:46<00:00,  6.29it/s]\n"
     ]
    },
    {
     "name": "stdout",
     "output_type": "stream",
     "text": [
      "Epoch 63/150, Train Loss: 0.3956908186613503\n",
      "Epoch 63/150, Eval Loss: 0.3836075675648612\n"
     ]
    },
    {
     "name": "stderr",
     "output_type": "stream",
     "text": [
      "100%|█████████████████████████████████████████| 295/295 [00:46<00:00,  6.28it/s]\n"
     ]
    },
    {
     "name": "stdout",
     "output_type": "stream",
     "text": [
      "Epoch 64/150, Train Loss: 0.3923356038028911\n",
      "Epoch 64/150, Eval Loss: 0.38306487089878805\n"
     ]
    },
    {
     "name": "stderr",
     "output_type": "stream",
     "text": [
      "100%|█████████████████████████████████████████| 295/295 [00:46<00:00,  6.28it/s]\n"
     ]
    },
    {
     "name": "stdout",
     "output_type": "stream",
     "text": [
      "Epoch 65/150, Train Loss: 0.3928845302028171\n",
      "Epoch 65/150, Eval Loss: 0.37609764208664764\n"
     ]
    },
    {
     "name": "stderr",
     "output_type": "stream",
     "text": [
      "100%|█████████████████████████████████████████| 295/295 [00:46<00:00,  6.28it/s]\n"
     ]
    },
    {
     "name": "stdout",
     "output_type": "stream",
     "text": [
      "Epoch 66/150, Train Loss: 0.38984768744242393\n",
      "Epoch 66/150, Eval Loss: 0.37165958253113\n"
     ]
    },
    {
     "name": "stderr",
     "output_type": "stream",
     "text": [
      "100%|█████████████████████████████████████████| 295/295 [00:46<00:00,  6.28it/s]\n"
     ]
    },
    {
     "name": "stdout",
     "output_type": "stream",
     "text": [
      "Epoch 67/150, Train Loss: 0.38926454090465934\n",
      "Epoch 67/150, Eval Loss: 0.38098338890720057\n"
     ]
    },
    {
     "name": "stderr",
     "output_type": "stream",
     "text": [
      "100%|█████████████████████████████████████████| 295/295 [00:47<00:00,  6.27it/s]\n"
     ]
    },
    {
     "name": "stdout",
     "output_type": "stream",
     "text": [
      "Epoch 68/150, Train Loss: 0.38478893900321703\n",
      "Epoch 68/150, Eval Loss: 0.37282698621621\n"
     ]
    },
    {
     "name": "stderr",
     "output_type": "stream",
     "text": [
      "100%|█████████████████████████████████████████| 295/295 [00:47<00:00,  6.27it/s]\n"
     ]
    },
    {
     "name": "stdout",
     "output_type": "stream",
     "text": [
      "Epoch 69/150, Train Loss: 0.38447244995731417\n",
      "Epoch 69/150, Eval Loss: 0.3792884112209887\n"
     ]
    },
    {
     "name": "stderr",
     "output_type": "stream",
     "text": [
      "100%|█████████████████████████████████████████| 295/295 [00:46<00:00,  6.28it/s]\n"
     ]
    },
    {
     "name": "stdout",
     "output_type": "stream",
     "text": [
      "Epoch 70/150, Train Loss: 0.38110795985844176\n",
      "Epoch 70/150, Eval Loss: 0.36715536181991165\n"
     ]
    },
    {
     "name": "stderr",
     "output_type": "stream",
     "text": [
      "100%|█████████████████████████████████████████| 295/295 [00:46<00:00,  6.29it/s]\n"
     ]
    },
    {
     "name": "stdout",
     "output_type": "stream",
     "text": [
      "Epoch 71/150, Train Loss: 0.38107556766372613\n",
      "Epoch 71/150, Eval Loss: 0.36604274205259374\n"
     ]
    },
    {
     "name": "stderr",
     "output_type": "stream",
     "text": [
      "100%|█████████████████████████████████████████| 295/295 [00:46<00:00,  6.28it/s]\n"
     ]
    },
    {
     "name": "stdout",
     "output_type": "stream",
     "text": [
      "Epoch 72/150, Train Loss: 0.37912872115434226\n",
      "Epoch 72/150, Eval Loss: 0.36976275089624766\n"
     ]
    },
    {
     "name": "stderr",
     "output_type": "stream",
     "text": [
      "100%|█████████████████████████████████████████| 295/295 [00:46<00:00,  6.29it/s]\n"
     ]
    },
    {
     "name": "stdout",
     "output_type": "stream",
     "text": [
      "Epoch 73/150, Train Loss: 0.37815114992149806\n",
      "Epoch 73/150, Eval Loss: 0.365116037227012\n"
     ]
    },
    {
     "name": "stderr",
     "output_type": "stream",
     "text": [
      "100%|█████████████████████████████████████████| 295/295 [00:46<00:00,  6.28it/s]\n"
     ]
    },
    {
     "name": "stdout",
     "output_type": "stream",
     "text": [
      "Epoch 74/150, Train Loss: 0.37325322511842696\n",
      "Epoch 74/150, Eval Loss: 0.3745287608455967\n"
     ]
    },
    {
     "name": "stderr",
     "output_type": "stream",
     "text": [
      "100%|█████████████████████████████████████████| 295/295 [00:46<00:00,  6.29it/s]\n"
     ]
    },
    {
     "name": "stdout",
     "output_type": "stream",
     "text": [
      "Epoch 75/150, Train Loss: 0.3723037600517273\n",
      "Epoch 75/150, Eval Loss: 0.35888593422399984\n"
     ]
    },
    {
     "name": "stderr",
     "output_type": "stream",
     "text": [
      "100%|█████████████████████████████████████████| 295/295 [00:46<00:00,  6.29it/s]\n"
     ]
    },
    {
     "name": "stdout",
     "output_type": "stream",
     "text": [
      "Epoch 76/150, Train Loss: 0.3697582899513891\n",
      "Epoch 76/150, Eval Loss: 0.3624650195643708\n"
     ]
    },
    {
     "name": "stderr",
     "output_type": "stream",
     "text": [
      "100%|█████████████████████████████████████████| 295/295 [00:46<00:00,  6.29it/s]\n"
     ]
    },
    {
     "name": "stdout",
     "output_type": "stream",
     "text": [
      "Epoch 77/150, Train Loss: 0.369361289325407\n",
      "Epoch 77/150, Eval Loss: 0.3584013492674441\n"
     ]
    },
    {
     "name": "stderr",
     "output_type": "stream",
     "text": [
      "100%|█████████████████████████████████████████| 295/295 [00:46<00:00,  6.29it/s]\n"
     ]
    },
    {
     "name": "stdout",
     "output_type": "stream",
     "text": [
      "Epoch 78/150, Train Loss: 0.3657521188764249\n",
      "Epoch 78/150, Eval Loss: 0.35402812627521724\n"
     ]
    },
    {
     "name": "stderr",
     "output_type": "stream",
     "text": [
      "100%|█████████████████████████████████████████| 295/295 [00:46<00:00,  6.29it/s]\n"
     ]
    },
    {
     "name": "stdout",
     "output_type": "stream",
     "text": [
      "Epoch 79/150, Train Loss: 0.3654380682161299\n",
      "Epoch 79/150, Eval Loss: 0.36354518742174713\n"
     ]
    },
    {
     "name": "stderr",
     "output_type": "stream",
     "text": [
      "100%|█████████████████████████████████████████| 295/295 [00:46<00:00,  6.30it/s]\n"
     ]
    },
    {
     "name": "stdout",
     "output_type": "stream",
     "text": [
      "Epoch 80/150, Train Loss: 0.36203671400829895\n",
      "Epoch 80/150, Eval Loss: 0.35353072350089615\n"
     ]
    },
    {
     "name": "stderr",
     "output_type": "stream",
     "text": [
      "100%|█████████████████████████████████████████| 295/295 [00:46<00:00,  6.29it/s]\n"
     ]
    },
    {
     "name": "stdout",
     "output_type": "stream",
     "text": [
      "Epoch 81/150, Train Loss: 0.360155273140487\n",
      "Epoch 81/150, Eval Loss: 0.3640738910919911\n"
     ]
    },
    {
     "name": "stderr",
     "output_type": "stream",
     "text": [
      "100%|█████████████████████████████████████████| 295/295 [00:46<00:00,  6.28it/s]\n"
     ]
    },
    {
     "name": "stdout",
     "output_type": "stream",
     "text": [
      "Epoch 82/150, Train Loss: 0.3602993310002957\n",
      "Epoch 82/150, Eval Loss: 0.35026733214790756\n"
     ]
    },
    {
     "name": "stderr",
     "output_type": "stream",
     "text": [
      "100%|█████████████████████████████████████████| 295/295 [00:46<00:00,  6.28it/s]\n"
     ]
    },
    {
     "name": "stdout",
     "output_type": "stream",
     "text": [
      "Epoch 83/150, Train Loss: 0.35871272774065954\n",
      "Epoch 83/150, Eval Loss: 0.3559091324741776\n"
     ]
    },
    {
     "name": "stderr",
     "output_type": "stream",
     "text": [
      "100%|█████████████████████████████████████████| 295/295 [00:46<00:00,  6.29it/s]\n"
     ]
    },
    {
     "name": "stdout",
     "output_type": "stream",
     "text": [
      "Epoch 84/150, Train Loss: 0.3574421330528744\n",
      "Epoch 84/150, Eval Loss: 0.35151968372834697\n"
     ]
    },
    {
     "name": "stderr",
     "output_type": "stream",
     "text": [
      "100%|█████████████████████████████████████████| 295/295 [00:46<00:00,  6.29it/s]\n"
     ]
    },
    {
     "name": "stdout",
     "output_type": "stream",
     "text": [
      "Epoch 85/150, Train Loss: 0.35506583442122247\n",
      "Epoch 85/150, Eval Loss: 0.3495656827817092\n"
     ]
    },
    {
     "name": "stderr",
     "output_type": "stream",
     "text": [
      "100%|█████████████████████████████████████████| 295/295 [00:47<00:00,  6.28it/s]\n"
     ]
    },
    {
     "name": "stdout",
     "output_type": "stream",
     "text": [
      "Epoch 86/150, Train Loss: 0.35476047270378824\n",
      "Epoch 86/150, Eval Loss: 0.3456455525514242\n"
     ]
    },
    {
     "name": "stderr",
     "output_type": "stream",
     "text": [
      "100%|█████████████████████████████████████████| 295/295 [00:46<00:00,  6.28it/s]\n"
     ]
    },
    {
     "name": "stdout",
     "output_type": "stream",
     "text": [
      "Epoch 87/150, Train Loss: 0.35460310244964344\n",
      "Epoch 87/150, Eval Loss: 0.341859020494126\n"
     ]
    },
    {
     "name": "stderr",
     "output_type": "stream",
     "text": [
      "100%|█████████████████████████████████████████| 295/295 [00:46<00:00,  6.29it/s]\n"
     ]
    },
    {
     "name": "stdout",
     "output_type": "stream",
     "text": [
      "Epoch 88/150, Train Loss: 0.35055304098937473\n",
      "Epoch 88/150, Eval Loss: 0.34608969132642486\n"
     ]
    },
    {
     "name": "stderr",
     "output_type": "stream",
     "text": [
      "100%|█████████████████████████████████████████| 295/295 [00:46<00:00,  6.29it/s]\n"
     ]
    },
    {
     "name": "stdout",
     "output_type": "stream",
     "text": [
      "Epoch 89/150, Train Loss: 0.3489537280494884\n",
      "Epoch 89/150, Eval Loss: 0.34346448811324864\n"
     ]
    },
    {
     "name": "stderr",
     "output_type": "stream",
     "text": [
      "100%|█████████████████████████████████████████| 295/295 [00:46<00:00,  6.30it/s]\n"
     ]
    },
    {
     "name": "stdout",
     "output_type": "stream",
     "text": [
      "Epoch 90/150, Train Loss: 0.34693023092665914\n",
      "Epoch 90/150, Eval Loss: 0.35004938172327504\n"
     ]
    },
    {
     "name": "stderr",
     "output_type": "stream",
     "text": [
      "100%|█████████████████████████████████████████| 295/295 [00:46<00:00,  6.31it/s]\n"
     ]
    },
    {
     "name": "stdout",
     "output_type": "stream",
     "text": [
      "Epoch 91/150, Train Loss: 0.34685287712994267\n",
      "Epoch 91/150, Eval Loss: 0.3388115707281473\n"
     ]
    },
    {
     "name": "stderr",
     "output_type": "stream",
     "text": [
      "100%|█████████████████████████████████████████| 295/295 [00:46<00:00,  6.30it/s]\n"
     ]
    },
    {
     "name": "stdout",
     "output_type": "stream",
     "text": [
      "Epoch 92/150, Train Loss: 0.3449419611591404\n",
      "Epoch 92/150, Eval Loss: 0.34741446013386185\n"
     ]
    },
    {
     "name": "stderr",
     "output_type": "stream",
     "text": [
      "100%|█████████████████████████████████████████| 295/295 [00:46<00:00,  6.29it/s]\n"
     ]
    },
    {
     "name": "stdout",
     "output_type": "stream",
     "text": [
      "Epoch 93/150, Train Loss: 0.34111680317733245\n",
      "Epoch 93/150, Eval Loss: 0.33568643557058797\n"
     ]
    },
    {
     "name": "stderr",
     "output_type": "stream",
     "text": [
      "100%|█████████████████████████████████████████| 295/295 [00:46<00:00,  6.29it/s]\n"
     ]
    },
    {
     "name": "stdout",
     "output_type": "stream",
     "text": [
      "Epoch 94/150, Train Loss: 0.3416271079394777\n",
      "Epoch 94/150, Eval Loss: 0.3492971280136624\n"
     ]
    },
    {
     "name": "stderr",
     "output_type": "stream",
     "text": [
      "100%|█████████████████████████████████████████| 295/295 [00:46<00:00,  6.28it/s]\n"
     ]
    },
    {
     "name": "stdout",
     "output_type": "stream",
     "text": [
      "Epoch 95/150, Train Loss: 0.3390901007894742\n",
      "Epoch 95/150, Eval Loss: 0.33499649086514033\n"
     ]
    },
    {
     "name": "stderr",
     "output_type": "stream",
     "text": [
      "100%|█████████████████████████████████████████| 295/295 [00:46<00:00,  6.29it/s]\n"
     ]
    },
    {
     "name": "stdout",
     "output_type": "stream",
     "text": [
      "Epoch 96/150, Train Loss: 0.3398826965841196\n",
      "Epoch 96/150, Eval Loss: 0.3448298569466617\n"
     ]
    },
    {
     "name": "stderr",
     "output_type": "stream",
     "text": [
      "100%|█████████████████████████████████████████| 295/295 [00:46<00:00,  6.29it/s]\n"
     ]
    },
    {
     "name": "stdout",
     "output_type": "stream",
     "text": [
      "Epoch 97/150, Train Loss: 0.3376217982526553\n",
      "Epoch 97/150, Eval Loss: 0.3300573112996849\n"
     ]
    },
    {
     "name": "stderr",
     "output_type": "stream",
     "text": [
      "100%|█████████████████████████████████████████| 295/295 [00:46<00:00,  6.29it/s]\n"
     ]
    },
    {
     "name": "stdout",
     "output_type": "stream",
     "text": [
      "Epoch 98/150, Train Loss: 0.33701195560269437\n",
      "Epoch 98/150, Eval Loss: 0.3380092261610804\n"
     ]
    },
    {
     "name": "stderr",
     "output_type": "stream",
     "text": [
      "100%|█████████████████████████████████████████| 295/295 [00:46<00:00,  6.30it/s]\n"
     ]
    },
    {
     "name": "stdout",
     "output_type": "stream",
     "text": [
      "Epoch 99/150, Train Loss: 0.3388319789858188\n",
      "Epoch 99/150, Eval Loss: 0.3338563458339588\n"
     ]
    },
    {
     "name": "stderr",
     "output_type": "stream",
     "text": [
      "100%|█████████████████████████████████████████| 295/295 [00:46<00:00,  6.29it/s]\n"
     ]
    },
    {
     "name": "stdout",
     "output_type": "stream",
     "text": [
      "Epoch 100/150, Train Loss: 0.3344874190577006\n",
      "Epoch 100/150, Eval Loss: 0.34193708163660924\n"
     ]
    },
    {
     "name": "stderr",
     "output_type": "stream",
     "text": [
      "100%|█████████████████████████████████████████| 295/295 [00:46<00:00,  6.28it/s]\n"
     ]
    },
    {
     "name": "stdout",
     "output_type": "stream",
     "text": [
      "Epoch 101/150, Train Loss: 0.3322782614473569\n",
      "Epoch 101/150, Eval Loss: 0.33737812372478276\n"
     ]
    },
    {
     "name": "stderr",
     "output_type": "stream",
     "text": [
      "100%|█████████████████████████████████████████| 295/295 [00:46<00:00,  6.29it/s]\n"
     ]
    },
    {
     "name": "stdout",
     "output_type": "stream",
     "text": [
      "Epoch 102/150, Train Loss: 0.33317214679920065\n",
      "Epoch 102/150, Eval Loss: 0.33435849201034856\n"
     ]
    },
    {
     "name": "stderr",
     "output_type": "stream",
     "text": [
      "100%|█████████████████████████████████████████| 295/295 [00:46<00:00,  6.29it/s]\n"
     ]
    },
    {
     "name": "stdout",
     "output_type": "stream",
     "text": [
      "Epoch 103/150, Train Loss: 0.3329801728159694\n",
      "Epoch 103/150, Eval Loss: 0.3241728669082796\n"
     ]
    },
    {
     "name": "stderr",
     "output_type": "stream",
     "text": [
      "100%|█████████████████████████████████████████| 295/295 [00:46<00:00,  6.29it/s]\n"
     ]
    },
    {
     "name": "stdout",
     "output_type": "stream",
     "text": [
      "Epoch 104/150, Train Loss: 0.3327188059435052\n",
      "Epoch 104/150, Eval Loss: 0.32818567752838135\n"
     ]
    },
    {
     "name": "stderr",
     "output_type": "stream",
     "text": [
      "100%|█████████████████████████████████████████| 295/295 [00:46<00:00,  6.30it/s]\n"
     ]
    },
    {
     "name": "stdout",
     "output_type": "stream",
     "text": [
      "Epoch 105/150, Train Loss: 0.3305716316578752\n",
      "Epoch 105/150, Eval Loss: 0.3278839423044308\n"
     ]
    },
    {
     "name": "stderr",
     "output_type": "stream",
     "text": [
      "100%|█████████████████████████████████████████| 295/295 [00:46<00:00,  6.29it/s]\n"
     ]
    },
    {
     "name": "stdout",
     "output_type": "stream",
     "text": [
      "Epoch 106/150, Train Loss: 0.32832213761442797\n",
      "Epoch 106/150, Eval Loss: 0.3349435615378457\n"
     ]
    },
    {
     "name": "stderr",
     "output_type": "stream",
     "text": [
      "100%|█████████████████████████████████████████| 295/295 [00:46<00:00,  6.30it/s]\n"
     ]
    },
    {
     "name": "stdout",
     "output_type": "stream",
     "text": [
      "Epoch 107/150, Train Loss: 0.32759987120911227\n",
      "Epoch 107/150, Eval Loss: 0.3352684886068911\n"
     ]
    },
    {
     "name": "stderr",
     "output_type": "stream",
     "text": [
      "100%|█████████████████████████████████████████| 295/295 [00:46<00:00,  6.29it/s]\n"
     ]
    },
    {
     "name": "stdout",
     "output_type": "stream",
     "text": [
      "Epoch 108/150, Train Loss: 0.32994302107115925\n",
      "Epoch 108/150, Eval Loss: 0.3225454180627256\n"
     ]
    },
    {
     "name": "stderr",
     "output_type": "stream",
     "text": [
      "100%|█████████████████████████████████████████| 295/295 [00:46<00:00,  6.29it/s]\n"
     ]
    },
    {
     "name": "stdout",
     "output_type": "stream",
     "text": [
      "Epoch 109/150, Train Loss: 0.3327580236782462\n",
      "Epoch 109/150, Eval Loss: 0.33615198046774475\n"
     ]
    },
    {
     "name": "stderr",
     "output_type": "stream",
     "text": [
      "100%|█████████████████████████████████████████| 295/295 [00:46<00:00,  6.29it/s]\n"
     ]
    },
    {
     "name": "stdout",
     "output_type": "stream",
     "text": [
      "Epoch 110/150, Train Loss: 0.33083796486005945\n",
      "Epoch 110/150, Eval Loss: 0.32416552587135417\n"
     ]
    },
    {
     "name": "stderr",
     "output_type": "stream",
     "text": [
      "100%|█████████████████████████████████████████| 295/295 [00:46<00:00,  6.29it/s]\n"
     ]
    },
    {
     "name": "stdout",
     "output_type": "stream",
     "text": [
      "Epoch 111/150, Train Loss: 0.32505534250857465\n",
      "Epoch 111/150, Eval Loss: 0.3425333600591969\n"
     ]
    },
    {
     "name": "stderr",
     "output_type": "stream",
     "text": [
      "100%|█████████████████████████████████████████| 295/295 [00:46<00:00,  6.30it/s]\n"
     ]
    },
    {
     "name": "stdout",
     "output_type": "stream",
     "text": [
      "Epoch 112/150, Train Loss: 0.32852614698773724\n",
      "Epoch 112/150, Eval Loss: 0.32077279686927795\n"
     ]
    },
    {
     "name": "stderr",
     "output_type": "stream",
     "text": [
      "100%|█████████████████████████████████████████| 295/295 [00:46<00:00,  6.29it/s]\n"
     ]
    },
    {
     "name": "stdout",
     "output_type": "stream",
     "text": [
      "Epoch 113/150, Train Loss: 0.3280924934451863\n",
      "Epoch 113/150, Eval Loss: 0.32344744294076355\n"
     ]
    },
    {
     "name": "stderr",
     "output_type": "stream",
     "text": [
      "100%|█████████████████████████████████████████| 295/295 [00:46<00:00,  6.28it/s]\n"
     ]
    },
    {
     "name": "stdout",
     "output_type": "stream",
     "text": [
      "Epoch 114/150, Train Loss: 0.3313767697851537\n",
      "Epoch 114/150, Eval Loss: 0.316035634762532\n"
     ]
    },
    {
     "name": "stderr",
     "output_type": "stream",
     "text": [
      "100%|█████████████████████████████████████████| 295/295 [00:46<00:00,  6.29it/s]\n"
     ]
    },
    {
     "name": "stdout",
     "output_type": "stream",
     "text": [
      "Epoch 115/150, Train Loss: 0.3294580364631394\n",
      "Epoch 115/150, Eval Loss: 0.33340014477033875\n"
     ]
    },
    {
     "name": "stderr",
     "output_type": "stream",
     "text": [
      "100%|█████████████████████████████████████████| 295/295 [00:46<00:00,  6.29it/s]\n"
     ]
    },
    {
     "name": "stdout",
     "output_type": "stream",
     "text": [
      "Epoch 116/150, Train Loss: 0.32237457976502887\n",
      "Epoch 116/150, Eval Loss: 0.33424075310294693\n"
     ]
    },
    {
     "name": "stderr",
     "output_type": "stream",
     "text": [
      "100%|█████████████████████████████████████████| 295/295 [00:46<00:00,  6.30it/s]\n"
     ]
    },
    {
     "name": "stdout",
     "output_type": "stream",
     "text": [
      "Epoch 117/150, Train Loss: 0.32471669245574436\n",
      "Epoch 117/150, Eval Loss: 0.3211828482312125\n"
     ]
    },
    {
     "name": "stderr",
     "output_type": "stream",
     "text": [
      "100%|█████████████████████████████████████████| 295/295 [00:46<00:00,  6.29it/s]\n"
     ]
    },
    {
     "name": "stdout",
     "output_type": "stream",
     "text": [
      "Epoch 118/150, Train Loss: 0.32560125013529245\n",
      "Epoch 118/150, Eval Loss: 0.30909016084026647\n"
     ]
    },
    {
     "name": "stderr",
     "output_type": "stream",
     "text": [
      "100%|█████████████████████████████████████████| 295/295 [00:46<00:00,  6.29it/s]\n"
     ]
    },
    {
     "name": "stdout",
     "output_type": "stream",
     "text": [
      "Epoch 119/150, Train Loss: 0.3262045964851218\n",
      "Epoch 119/150, Eval Loss: 0.32966065849806814\n"
     ]
    },
    {
     "name": "stderr",
     "output_type": "stream",
     "text": [
      "100%|█████████████████████████████████████████| 295/295 [00:46<00:00,  6.29it/s]\n"
     ]
    },
    {
     "name": "stdout",
     "output_type": "stream",
     "text": [
      "Epoch 120/150, Train Loss: 0.32061798340183195\n",
      "Epoch 120/150, Eval Loss: 0.327358640529014\n"
     ]
    },
    {
     "name": "stderr",
     "output_type": "stream",
     "text": [
      "100%|█████████████████████████████████████████| 295/295 [00:46<00:00,  6.29it/s]\n"
     ]
    },
    {
     "name": "stdout",
     "output_type": "stream",
     "text": [
      "Epoch 121/150, Train Loss: 0.3194463917764567\n",
      "Epoch 121/150, Eval Loss: 0.32155675662530436\n"
     ]
    },
    {
     "name": "stderr",
     "output_type": "stream",
     "text": [
      "100%|█████████████████████████████████████████| 295/295 [00:46<00:00,  6.29it/s]\n"
     ]
    },
    {
     "name": "stdout",
     "output_type": "stream",
     "text": [
      "Epoch 122/150, Train Loss: 0.3269779728125718\n",
      "Epoch 122/150, Eval Loss: 0.3072545101513734\n"
     ]
    },
    {
     "name": "stderr",
     "output_type": "stream",
     "text": [
      "100%|█████████████████████████████████████████| 295/295 [00:47<00:00,  6.28it/s]\n"
     ]
    },
    {
     "name": "stdout",
     "output_type": "stream",
     "text": [
      "Epoch 123/150, Train Loss: 0.3226263932757458\n",
      "Epoch 123/150, Eval Loss: 0.3252164657051499\n"
     ]
    },
    {
     "name": "stderr",
     "output_type": "stream",
     "text": [
      "100%|█████████████████████████████████████████| 295/295 [00:46<00:00,  6.28it/s]\n"
     ]
    },
    {
     "name": "stdout",
     "output_type": "stream",
     "text": [
      "Epoch 124/150, Train Loss: 0.3178619737847377\n",
      "Epoch 124/150, Eval Loss: 0.32833478056095744\n"
     ]
    },
    {
     "name": "stderr",
     "output_type": "stream",
     "text": [
      "100%|█████████████████████████████████████████| 295/295 [00:46<00:00,  6.29it/s]\n"
     ]
    },
    {
     "name": "stdout",
     "output_type": "stream",
     "text": [
      "Epoch 125/150, Train Loss: 0.31924453564619615\n",
      "Epoch 125/150, Eval Loss: 0.31155549030046203\n"
     ]
    },
    {
     "name": "stderr",
     "output_type": "stream",
     "text": [
      "100%|█████████████████████████████████████████| 295/295 [00:46<00:00,  6.29it/s]\n"
     ]
    },
    {
     "name": "stdout",
     "output_type": "stream",
     "text": [
      "Epoch 126/150, Train Loss: 0.3222826510667801\n",
      "Epoch 126/150, Eval Loss: 0.30472644438614716\n"
     ]
    },
    {
     "name": "stderr",
     "output_type": "stream",
     "text": [
      "100%|█████████████████████████████████████████| 295/295 [00:46<00:00,  6.29it/s]\n"
     ]
    },
    {
     "name": "stdout",
     "output_type": "stream",
     "text": [
      "Epoch 127/150, Train Loss: 0.3178989436666844\n",
      "Epoch 127/150, Eval Loss: 0.327970569198196\n"
     ]
    },
    {
     "name": "stderr",
     "output_type": "stream",
     "text": [
      "100%|█████████████████████████████████████████| 295/295 [00:46<00:00,  6.29it/s]\n"
     ]
    },
    {
     "name": "stdout",
     "output_type": "stream",
     "text": [
      "Epoch 128/150, Train Loss: 0.31434660761033073\n",
      "Epoch 128/150, Eval Loss: 0.31178961210959666\n"
     ]
    },
    {
     "name": "stderr",
     "output_type": "stream",
     "text": [
      "100%|█████████████████████████████████████████| 295/295 [00:46<00:00,  6.29it/s]\n"
     ]
    },
    {
     "name": "stdout",
     "output_type": "stream",
     "text": [
      "Epoch 129/150, Train Loss: 0.31890075545189744\n",
      "Epoch 129/150, Eval Loss: 0.3084042209225732\n"
     ]
    },
    {
     "name": "stderr",
     "output_type": "stream",
     "text": [
      "100%|█████████████████████████████████████████| 295/295 [00:46<00:00,  6.30it/s]\n"
     ]
    },
    {
     "name": "stdout",
     "output_type": "stream",
     "text": [
      "Epoch 130/150, Train Loss: 0.31971517311314407\n",
      "Epoch 130/150, Eval Loss: 0.31218000078523483\n"
     ]
    },
    {
     "name": "stderr",
     "output_type": "stream",
     "text": [
      "100%|█████████████████████████████████████████| 295/295 [00:46<00:00,  6.29it/s]\n"
     ]
    },
    {
     "name": "stdout",
     "output_type": "stream",
     "text": [
      "Epoch 131/150, Train Loss: 0.31297372594728307\n",
      "Epoch 131/150, Eval Loss: 0.32149664493831426\n"
     ]
    },
    {
     "name": "stderr",
     "output_type": "stream",
     "text": [
      "100%|█████████████████████████████████████████| 295/295 [00:46<00:00,  6.30it/s]\n"
     ]
    },
    {
     "name": "stdout",
     "output_type": "stream",
     "text": [
      "Epoch 132/150, Train Loss: 0.3151408739009146\n",
      "Epoch 132/150, Eval Loss: 0.30587426915362076\n"
     ]
    },
    {
     "name": "stderr",
     "output_type": "stream",
     "text": [
      "100%|█████████████████████████████████████████| 295/295 [00:46<00:00,  6.29it/s]\n"
     ]
    },
    {
     "name": "stdout",
     "output_type": "stream",
     "text": [
      "Epoch 133/150, Train Loss: 0.3167334697004092\n",
      "Epoch 133/150, Eval Loss: 0.30750220208554657\n"
     ]
    },
    {
     "name": "stderr",
     "output_type": "stream",
     "text": [
      "100%|█████████████████████████████████████████| 295/295 [00:46<00:00,  6.29it/s]\n"
     ]
    },
    {
     "name": "stdout",
     "output_type": "stream",
     "text": [
      "Epoch 134/150, Train Loss: 0.311826593037379\n",
      "Epoch 134/150, Eval Loss: 0.31007486259615097\n"
     ]
    },
    {
     "name": "stderr",
     "output_type": "stream",
     "text": [
      "100%|█████████████████████████████████████████| 295/295 [00:46<00:00,  6.29it/s]\n"
     ]
    },
    {
     "name": "stdout",
     "output_type": "stream",
     "text": [
      "Epoch 135/150, Train Loss: 0.3092238968206664\n",
      "Epoch 135/150, Eval Loss: 0.31610857514110774\n"
     ]
    },
    {
     "name": "stderr",
     "output_type": "stream",
     "text": [
      "100%|█████████████████████████████████████████| 295/295 [00:46<00:00,  6.29it/s]\n"
     ]
    },
    {
     "name": "stdout",
     "output_type": "stream",
     "text": [
      "Epoch 136/150, Train Loss: 0.3136059681237754\n",
      "Epoch 136/150, Eval Loss: 0.29575822200324087\n"
     ]
    },
    {
     "name": "stderr",
     "output_type": "stream",
     "text": [
      "100%|█████████████████████████████████████████| 295/295 [00:46<00:00,  6.30it/s]\n"
     ]
    },
    {
     "name": "stdout",
     "output_type": "stream",
     "text": [
      "Epoch 137/150, Train Loss: 0.3134721637782404\n",
      "Epoch 137/150, Eval Loss: 0.31500984808883153\n"
     ]
    },
    {
     "name": "stderr",
     "output_type": "stream",
     "text": [
      "100%|█████████████████████████████████████████| 295/295 [00:46<00:00,  6.29it/s]\n"
     ]
    },
    {
     "name": "stdout",
     "output_type": "stream",
     "text": [
      "Epoch 138/150, Train Loss: 0.3067955414622517\n",
      "Epoch 138/150, Eval Loss: 0.31134215601392695\n"
     ]
    },
    {
     "name": "stderr",
     "output_type": "stream",
     "text": [
      "100%|█████████████████████████████████████████| 295/295 [00:46<00:00,  6.29it/s]\n"
     ]
    },
    {
     "name": "stdout",
     "output_type": "stream",
     "text": [
      "Epoch 139/150, Train Loss: 0.3070023005291567\n",
      "Epoch 139/150, Eval Loss: 0.30693178362137563\n"
     ]
    },
    {
     "name": "stderr",
     "output_type": "stream",
     "text": [
      "100%|█████████████████████████████████████████| 295/295 [00:46<00:00,  6.29it/s]\n"
     ]
    },
    {
     "name": "stdout",
     "output_type": "stream",
     "text": [
      "Epoch 140/150, Train Loss: 0.31004807797528927\n",
      "Epoch 140/150, Eval Loss: 0.29828773237563466\n"
     ]
    },
    {
     "name": "stderr",
     "output_type": "stream",
     "text": [
      "100%|█████████████████████████████████████████| 295/295 [00:46<00:00,  6.30it/s]\n"
     ]
    },
    {
     "name": "stdout",
     "output_type": "stream",
     "text": [
      "Epoch 141/150, Train Loss: 0.30571416970026694\n",
      "Epoch 141/150, Eval Loss: 0.31799735410793406\n"
     ]
    },
    {
     "name": "stderr",
     "output_type": "stream",
     "text": [
      "100%|█████████████████████████████████████████| 295/295 [00:46<00:00,  6.29it/s]\n"
     ]
    },
    {
     "name": "stdout",
     "output_type": "stream",
     "text": [
      "Epoch 142/150, Train Loss: 0.3029769937870866\n",
      "Epoch 142/150, Eval Loss: 0.2978807446118948\n"
     ]
    },
    {
     "name": "stderr",
     "output_type": "stream",
     "text": [
      "100%|█████████████████████████████████████████| 295/295 [00:46<00:00,  6.29it/s]\n"
     ]
    },
    {
     "name": "stdout",
     "output_type": "stream",
     "text": [
      "Epoch 143/150, Train Loss: 0.30801129649251197\n",
      "Epoch 143/150, Eval Loss: 0.30813523925639486\n"
     ]
    },
    {
     "name": "stderr",
     "output_type": "stream",
     "text": [
      "100%|█████████████████████████████████████████| 295/295 [00:46<00:00,  6.30it/s]\n"
     ]
    },
    {
     "name": "stdout",
     "output_type": "stream",
     "text": [
      "Epoch 144/150, Train Loss: 0.3059901303153927\n",
      "Epoch 144/150, Eval Loss: 0.308227609138231\n"
     ]
    },
    {
     "name": "stderr",
     "output_type": "stream",
     "text": [
      "100%|█████████████████████████████████████████| 295/295 [00:46<00:00,  6.29it/s]\n"
     ]
    },
    {
     "name": "stdout",
     "output_type": "stream",
     "text": [
      "Epoch 145/150, Train Loss: 0.3028411318184966\n",
      "Epoch 145/150, Eval Loss: 0.31523837632424123\n"
     ]
    },
    {
     "name": "stderr",
     "output_type": "stream",
     "text": [
      "100%|█████████████████████████████████████████| 295/295 [00:46<00:00,  6.29it/s]\n"
     ]
    },
    {
     "name": "stdout",
     "output_type": "stream",
     "text": [
      "Epoch 146/150, Train Loss: 0.3059129535646762\n",
      "Epoch 146/150, Eval Loss: 0.28970992323514577\n"
     ]
    },
    {
     "name": "stderr",
     "output_type": "stream",
     "text": [
      "100%|█████████████████████████████████████████| 295/295 [00:46<00:00,  6.28it/s]\n"
     ]
    },
    {
     "name": "stdout",
     "output_type": "stream",
     "text": [
      "Epoch 147/150, Train Loss: 0.30435633805848783\n",
      "Epoch 147/150, Eval Loss: 0.3106564891499442\n"
     ]
    },
    {
     "name": "stderr",
     "output_type": "stream",
     "text": [
      "100%|█████████████████████████████████████████| 295/295 [00:46<00:00,  6.29it/s]\n"
     ]
    },
    {
     "name": "stdout",
     "output_type": "stream",
     "text": [
      "Epoch 148/150, Train Loss: 0.29901453574835246\n",
      "Epoch 148/150, Eval Loss: 0.30035340262425914\n"
     ]
    },
    {
     "name": "stderr",
     "output_type": "stream",
     "text": [
      "100%|█████████████████████████████████████████| 295/295 [00:46<00:00,  6.29it/s]\n"
     ]
    },
    {
     "name": "stdout",
     "output_type": "stream",
     "text": [
      "Epoch 149/150, Train Loss: 0.3027103348303649\n",
      "Epoch 149/150, Eval Loss: 0.30109500562822494\n"
     ]
    },
    {
     "name": "stderr",
     "output_type": "stream",
     "text": [
      "100%|█████████████████████████████████████████| 295/295 [00:46<00:00,  6.29it/s]\n"
     ]
    },
    {
     "name": "stdout",
     "output_type": "stream",
     "text": [
      "Epoch 150/150, Train Loss: 0.30282947794865755\n",
      "Epoch 150/150, Eval Loss: 0.29409870263692495\n"
     ]
    }
   ],
   "source": [
    "train_f1_list = []\n",
    "test_f1_list = []\n",
    "loss_train = []\n",
    "loss_test=[]\n",
    "\n",
    "for epoch in range(num_epochs):\n",
    "    model.train()\n",
    "    total_loss = 0\n",
    "    for n, ((input_ids,attention_mask),targets) in enumerate(tqdm(train_dataloader)):\n",
    "        input_ids = input_ids.to(device)\n",
    "        attention_mask = attention_mask.to(device)\n",
    "        targets = targets.to(device)\n",
    "        \n",
    "        outputs = model(input_ids = input_ids, attention_mask=attention_mask)\n",
    "        loss = criterion(outputs, targets)\n",
    "        loss.backward()\n",
    "        optimizer.step()\n",
    "        \n",
    "        total_loss += loss.item()\n",
    "    \n",
    "    train_loss = total_loss / len(train_dataloader)\n",
    "    print(f\"Epoch {epoch + 1}/{num_epochs}, Train Loss: {train_loss}\")\n",
    "    loss_train.append(train_loss)\n",
    "    \n",
    "    model.eval()\n",
    "    total_loss = 0\n",
    "    for n, ((input_id,attention_mask),labels) in enumerate(eval_dataloader):\n",
    "        input_id = input_id.to(device)\n",
    "        attention_mask = attention_mask.to(device)\n",
    "        labels = labels.to(device)\n",
    "        \n",
    "        outputs = model(input_id, attention_mask=attention_mask)\n",
    "        loss = criterion(outputs, labels)\n",
    "        total_loss += loss.item()\n",
    "    \n",
    "    eval_loss = total_loss / len(eval_dataloader)\n",
    "    print(f\"Epoch {epoch + 1}/{num_epochs}, Eval Loss: {eval_loss}\")\n",
    "    loss_test.append(eval_loss)"
   ]
  },
  {
   "cell_type": "markdown",
   "id": "cf5fb2df",
   "metadata": {},
   "source": [
    "## Plot results"
   ]
  },
  {
   "cell_type": "code",
   "execution_count": 14,
   "id": "6866073a",
   "metadata": {},
   "outputs": [
    {
     "data": {
      "text/plain": [
       "<matplotlib.legend.Legend at 0x7fab266c7890>"
      ]
     },
     "execution_count": 14,
     "metadata": {},
     "output_type": "execute_result"
    },
    {
     "data": {
      "image/png": "[encoded data removed]",
      "text/plain": [
       "<Figure size 640x480 with 1 Axes>"
      ]
     },
     "metadata": {},
     "output_type": "display_data"
    }
   ],
   "source": [
    "plt.plot(loss_train, label='train')\n",
    "plt.plot(loss_test, label='test')\n",
    "plt.legend()"
   ]
  },
  {
   "cell_type": "code",
   "execution_count": 17,
   "id": "3076ac9b",
   "metadata": {},
   "outputs": [
    {
     "data": {
      "text/plain": [
       "[0.1568813481975027,\n",
       " 0.25830268292682296,\n",
       " 0.289043309431311,\n",
       " 0.6872586839363144]"
      ]
     },
     "execution_count": 17,
     "metadata": {},
     "output_type": "execute_result"
    }
   ],
   "source": [
    "num_variables = 4\n",
    "\n",
    "model.eval()  # Set the model to evaluation mode\n",
    "total_mae_per_variable = [0.0] * num_variables\n",
    "total_samples = 0\n",
    "\n",
    "with torch.no_grad():\n",
    "    for (input_ids, attention_mask), targets in eval_dataloader:\n",
    "        input_ids = input_ids.to(device)\n",
    "        attention_mask = attention_mask.to(device)\n",
    "        targets = targets.to(device)\n",
    "        predictions = model(input_ids = input_ids, attention_mask=attention_mask)\n",
    "\n",
    "        for i in range(num_variables):\n",
    "            mae_per_batch = F.l1_loss(predictions[:, i], targets[:, i], reduction='sum').item()\n",
    "            total_mae_per_variable[i] += mae_per_batch\n",
    "\n",
    "        total_samples += len(targets)\n",
    "\n",
    "mean_absolute_error_per_variable = [mae / total_samples for mae in total_mae_per_variable]\n",
    "mean_absolute_error_per_variable"
   ]
  },
  {
   "cell_type": "code",
   "execution_count": 18,
   "id": "6732f636",
   "metadata": {},
   "outputs": [
    {
     "data": {
      "text/plain": [
       "tensor([15.9689,  0.1524,  0.3720,  0.7747])"
      ]
     },
     "execution_count": 18,
     "metadata": {},
     "output_type": "execute_result"
    }
   ],
   "source": [
    "y = df_selected[['Molecular Weight', '#RO5 Violations', 'AlogP','pChEMBL Value']].values.astype(float)\n",
    "y = torch.tensor(y, dtype=torch.float32)\n",
    "mean = y.mean(dim=0)\n",
    "std = y.std(dim=0)\n",
    "MAE = torch.tensor(mean_absolute_error_per_variable)*std\n",
    "MAE"
   ]
  },
  {
   "cell_type": "code",
   "execution_count": null,
   "id": "a80add61",
   "metadata": {},
   "outputs": [],
   "source": []
  }
 ],
 "metadata": {
  "kernelspec": {
   "display_name": "intendd",
   "language": "python",
   "name": "intendd"
  },
  "language_info": {
   "codemirror_mode": {
    "name": "ipython",
    "version": 3
   },
   "file_extension": ".py",
   "mimetype": "text/x-python",
   "name": "python",
   "nbconvert_exporter": "python",
   "pygments_lexer": "ipython3",
   "version": "3.11.5"
  }
 },
 "nbformat": 4,
 "nbformat_minor": 5
}
